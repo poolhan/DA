{
 "cells": [
  {
   "cell_type": "code",
   "execution_count": 9,
   "id": "bffe7926",
   "metadata": {},
   "outputs": [],
   "source": [
    "from selenium import webdriver\n",
    "from selenium.webdriver.common.keys import Keys\n",
    "import time\n",
    "from selenium.webdriver.common.by import By"
   ]
  },
  {
   "cell_type": "markdown",
   "id": "7d3d3bef",
   "metadata": {},
   "source": [
    "### 베스트셀러 한국소설 2000년대 이후 한국소설 2024년 4월부터 2025년 4월까지의 \"베스트셀러\"링크 리스트를 생성하는 코드"
   ]
  },
  {
   "cell_type": "code",
   "execution_count": null,
   "id": "6f76a05d",
   "metadata": {},
   "outputs": [],
   "source": []
  },
  {
   "cell_type": "code",
   "execution_count": null,
   "id": "3cd8b5b9",
   "metadata": {},
   "outputs": [],
   "source": []
  },
  {
   "cell_type": "code",
   "execution_count": null,
   "id": "e2c9d3e6",
   "metadata": {},
   "outputs": [],
   "source": []
  },
  {
   "cell_type": "code",
   "execution_count": null,
   "id": "9abd4e55",
   "metadata": {},
   "outputs": [],
   "source": []
  },
  {
   "cell_type": "code",
   "execution_count": 10,
   "id": "f1a52e56",
   "metadata": {},
   "outputs": [],
   "source": [
    "driver= webdriver.Chrome()\n",
    "driver.get('https://www.aladin.co.kr/shop/common/wbest.aspx?BestType=Bestseller&BranchType=1&CID=50993&page=1&cnt=1000&SortOrder=1')"
   ]
  },
  {
   "cell_type": "code",
   "execution_count": 11,
   "id": "479c2d03",
   "metadata": {},
   "outputs": [],
   "source": [
    "time.sleep(3)#페이지가 완전히 로딩되도록 3초간 대기"
   ]
  },
  {
   "cell_type": "code",
   "execution_count": 12,
   "id": "4787c8ab",
   "metadata": {},
   "outputs": [],
   "source": [
    "booklist=driver.find_elements(By.XPATH,\"//div[@id='newbg_wrap2']//div[@class='ss_book_box']\" )#깊숙하게 있는건 contains를 이용해서 직접 서치"
   ]
  },
  {
   "cell_type": "code",
   "execution_count": 13,
   "id": "012eda9e",
   "metadata": {},
   "outputs": [
    {
     "data": {
      "text/plain": [
       "[<selenium.webdriver.remote.webelement.WebElement (session=\"16befd9aa1c99d1e8eff35231fae6d7d\", element=\"f.FEDE8E03CB3CDB4DBA11D0CCCBDC2A33.d.C134F03118BF4C776A13075175D8E4BF.e.123\")>,\n",
       " <selenium.webdriver.remote.webelement.WebElement (session=\"16befd9aa1c99d1e8eff35231fae6d7d\", element=\"f.FEDE8E03CB3CDB4DBA11D0CCCBDC2A33.d.C134F03118BF4C776A13075175D8E4BF.e.124\")>,\n",
       " <selenium.webdriver.remote.webelement.WebElement (session=\"16befd9aa1c99d1e8eff35231fae6d7d\", element=\"f.FEDE8E03CB3CDB4DBA11D0CCCBDC2A33.d.C134F03118BF4C776A13075175D8E4BF.e.125\")>,\n",
       " <selenium.webdriver.remote.webelement.WebElement (session=\"16befd9aa1c99d1e8eff35231fae6d7d\", element=\"f.FEDE8E03CB3CDB4DBA11D0CCCBDC2A33.d.C134F03118BF4C776A13075175D8E4BF.e.126\")>,\n",
       " <selenium.webdriver.remote.webelement.WebElement (session=\"16befd9aa1c99d1e8eff35231fae6d7d\", element=\"f.FEDE8E03CB3CDB4DBA11D0CCCBDC2A33.d.C134F03118BF4C776A13075175D8E4BF.e.127\")>,\n",
       " <selenium.webdriver.remote.webelement.WebElement (session=\"16befd9aa1c99d1e8eff35231fae6d7d\", element=\"f.FEDE8E03CB3CDB4DBA11D0CCCBDC2A33.d.C134F03118BF4C776A13075175D8E4BF.e.128\")>,\n",
       " <selenium.webdriver.remote.webelement.WebElement (session=\"16befd9aa1c99d1e8eff35231fae6d7d\", element=\"f.FEDE8E03CB3CDB4DBA11D0CCCBDC2A33.d.C134F03118BF4C776A13075175D8E4BF.e.129\")>,\n",
       " <selenium.webdriver.remote.webelement.WebElement (session=\"16befd9aa1c99d1e8eff35231fae6d7d\", element=\"f.FEDE8E03CB3CDB4DBA11D0CCCBDC2A33.d.C134F03118BF4C776A13075175D8E4BF.e.130\")>,\n",
       " <selenium.webdriver.remote.webelement.WebElement (session=\"16befd9aa1c99d1e8eff35231fae6d7d\", element=\"f.FEDE8E03CB3CDB4DBA11D0CCCBDC2A33.d.C134F03118BF4C776A13075175D8E4BF.e.131\")>,\n",
       " <selenium.webdriver.remote.webelement.WebElement (session=\"16befd9aa1c99d1e8eff35231fae6d7d\", element=\"f.FEDE8E03CB3CDB4DBA11D0CCCBDC2A33.d.C134F03118BF4C776A13075175D8E4BF.e.132\")>,\n",
       " <selenium.webdriver.remote.webelement.WebElement (session=\"16befd9aa1c99d1e8eff35231fae6d7d\", element=\"f.FEDE8E03CB3CDB4DBA11D0CCCBDC2A33.d.C134F03118BF4C776A13075175D8E4BF.e.133\")>,\n",
       " <selenium.webdriver.remote.webelement.WebElement (session=\"16befd9aa1c99d1e8eff35231fae6d7d\", element=\"f.FEDE8E03CB3CDB4DBA11D0CCCBDC2A33.d.C134F03118BF4C776A13075175D8E4BF.e.134\")>,\n",
       " <selenium.webdriver.remote.webelement.WebElement (session=\"16befd9aa1c99d1e8eff35231fae6d7d\", element=\"f.FEDE8E03CB3CDB4DBA11D0CCCBDC2A33.d.C134F03118BF4C776A13075175D8E4BF.e.135\")>,\n",
       " <selenium.webdriver.remote.webelement.WebElement (session=\"16befd9aa1c99d1e8eff35231fae6d7d\", element=\"f.FEDE8E03CB3CDB4DBA11D0CCCBDC2A33.d.C134F03118BF4C776A13075175D8E4BF.e.136\")>,\n",
       " <selenium.webdriver.remote.webelement.WebElement (session=\"16befd9aa1c99d1e8eff35231fae6d7d\", element=\"f.FEDE8E03CB3CDB4DBA11D0CCCBDC2A33.d.C134F03118BF4C776A13075175D8E4BF.e.137\")>,\n",
       " <selenium.webdriver.remote.webelement.WebElement (session=\"16befd9aa1c99d1e8eff35231fae6d7d\", element=\"f.FEDE8E03CB3CDB4DBA11D0CCCBDC2A33.d.C134F03118BF4C776A13075175D8E4BF.e.138\")>,\n",
       " <selenium.webdriver.remote.webelement.WebElement (session=\"16befd9aa1c99d1e8eff35231fae6d7d\", element=\"f.FEDE8E03CB3CDB4DBA11D0CCCBDC2A33.d.C134F03118BF4C776A13075175D8E4BF.e.139\")>,\n",
       " <selenium.webdriver.remote.webelement.WebElement (session=\"16befd9aa1c99d1e8eff35231fae6d7d\", element=\"f.FEDE8E03CB3CDB4DBA11D0CCCBDC2A33.d.C134F03118BF4C776A13075175D8E4BF.e.140\")>,\n",
       " <selenium.webdriver.remote.webelement.WebElement (session=\"16befd9aa1c99d1e8eff35231fae6d7d\", element=\"f.FEDE8E03CB3CDB4DBA11D0CCCBDC2A33.d.C134F03118BF4C776A13075175D8E4BF.e.141\")>,\n",
       " <selenium.webdriver.remote.webelement.WebElement (session=\"16befd9aa1c99d1e8eff35231fae6d7d\", element=\"f.FEDE8E03CB3CDB4DBA11D0CCCBDC2A33.d.C134F03118BF4C776A13075175D8E4BF.e.142\")>,\n",
       " <selenium.webdriver.remote.webelement.WebElement (session=\"16befd9aa1c99d1e8eff35231fae6d7d\", element=\"f.FEDE8E03CB3CDB4DBA11D0CCCBDC2A33.d.C134F03118BF4C776A13075175D8E4BF.e.143\")>,\n",
       " <selenium.webdriver.remote.webelement.WebElement (session=\"16befd9aa1c99d1e8eff35231fae6d7d\", element=\"f.FEDE8E03CB3CDB4DBA11D0CCCBDC2A33.d.C134F03118BF4C776A13075175D8E4BF.e.144\")>,\n",
       " <selenium.webdriver.remote.webelement.WebElement (session=\"16befd9aa1c99d1e8eff35231fae6d7d\", element=\"f.FEDE8E03CB3CDB4DBA11D0CCCBDC2A33.d.C134F03118BF4C776A13075175D8E4BF.e.145\")>,\n",
       " <selenium.webdriver.remote.webelement.WebElement (session=\"16befd9aa1c99d1e8eff35231fae6d7d\", element=\"f.FEDE8E03CB3CDB4DBA11D0CCCBDC2A33.d.C134F03118BF4C776A13075175D8E4BF.e.146\")>,\n",
       " <selenium.webdriver.remote.webelement.WebElement (session=\"16befd9aa1c99d1e8eff35231fae6d7d\", element=\"f.FEDE8E03CB3CDB4DBA11D0CCCBDC2A33.d.C134F03118BF4C776A13075175D8E4BF.e.147\")>,\n",
       " <selenium.webdriver.remote.webelement.WebElement (session=\"16befd9aa1c99d1e8eff35231fae6d7d\", element=\"f.FEDE8E03CB3CDB4DBA11D0CCCBDC2A33.d.C134F03118BF4C776A13075175D8E4BF.e.148\")>,\n",
       " <selenium.webdriver.remote.webelement.WebElement (session=\"16befd9aa1c99d1e8eff35231fae6d7d\", element=\"f.FEDE8E03CB3CDB4DBA11D0CCCBDC2A33.d.C134F03118BF4C776A13075175D8E4BF.e.149\")>,\n",
       " <selenium.webdriver.remote.webelement.WebElement (session=\"16befd9aa1c99d1e8eff35231fae6d7d\", element=\"f.FEDE8E03CB3CDB4DBA11D0CCCBDC2A33.d.C134F03118BF4C776A13075175D8E4BF.e.150\")>,\n",
       " <selenium.webdriver.remote.webelement.WebElement (session=\"16befd9aa1c99d1e8eff35231fae6d7d\", element=\"f.FEDE8E03CB3CDB4DBA11D0CCCBDC2A33.d.C134F03118BF4C776A13075175D8E4BF.e.151\")>,\n",
       " <selenium.webdriver.remote.webelement.WebElement (session=\"16befd9aa1c99d1e8eff35231fae6d7d\", element=\"f.FEDE8E03CB3CDB4DBA11D0CCCBDC2A33.d.C134F03118BF4C776A13075175D8E4BF.e.152\")>,\n",
       " <selenium.webdriver.remote.webelement.WebElement (session=\"16befd9aa1c99d1e8eff35231fae6d7d\", element=\"f.FEDE8E03CB3CDB4DBA11D0CCCBDC2A33.d.C134F03118BF4C776A13075175D8E4BF.e.153\")>,\n",
       " <selenium.webdriver.remote.webelement.WebElement (session=\"16befd9aa1c99d1e8eff35231fae6d7d\", element=\"f.FEDE8E03CB3CDB4DBA11D0CCCBDC2A33.d.C134F03118BF4C776A13075175D8E4BF.e.154\")>,\n",
       " <selenium.webdriver.remote.webelement.WebElement (session=\"16befd9aa1c99d1e8eff35231fae6d7d\", element=\"f.FEDE8E03CB3CDB4DBA11D0CCCBDC2A33.d.C134F03118BF4C776A13075175D8E4BF.e.155\")>,\n",
       " <selenium.webdriver.remote.webelement.WebElement (session=\"16befd9aa1c99d1e8eff35231fae6d7d\", element=\"f.FEDE8E03CB3CDB4DBA11D0CCCBDC2A33.d.C134F03118BF4C776A13075175D8E4BF.e.156\")>,\n",
       " <selenium.webdriver.remote.webelement.WebElement (session=\"16befd9aa1c99d1e8eff35231fae6d7d\", element=\"f.FEDE8E03CB3CDB4DBA11D0CCCBDC2A33.d.C134F03118BF4C776A13075175D8E4BF.e.157\")>,\n",
       " <selenium.webdriver.remote.webelement.WebElement (session=\"16befd9aa1c99d1e8eff35231fae6d7d\", element=\"f.FEDE8E03CB3CDB4DBA11D0CCCBDC2A33.d.C134F03118BF4C776A13075175D8E4BF.e.158\")>,\n",
       " <selenium.webdriver.remote.webelement.WebElement (session=\"16befd9aa1c99d1e8eff35231fae6d7d\", element=\"f.FEDE8E03CB3CDB4DBA11D0CCCBDC2A33.d.C134F03118BF4C776A13075175D8E4BF.e.159\")>,\n",
       " <selenium.webdriver.remote.webelement.WebElement (session=\"16befd9aa1c99d1e8eff35231fae6d7d\", element=\"f.FEDE8E03CB3CDB4DBA11D0CCCBDC2A33.d.C134F03118BF4C776A13075175D8E4BF.e.160\")>,\n",
       " <selenium.webdriver.remote.webelement.WebElement (session=\"16befd9aa1c99d1e8eff35231fae6d7d\", element=\"f.FEDE8E03CB3CDB4DBA11D0CCCBDC2A33.d.C134F03118BF4C776A13075175D8E4BF.e.161\")>,\n",
       " <selenium.webdriver.remote.webelement.WebElement (session=\"16befd9aa1c99d1e8eff35231fae6d7d\", element=\"f.FEDE8E03CB3CDB4DBA11D0CCCBDC2A33.d.C134F03118BF4C776A13075175D8E4BF.e.162\")>,\n",
       " <selenium.webdriver.remote.webelement.WebElement (session=\"16befd9aa1c99d1e8eff35231fae6d7d\", element=\"f.FEDE8E03CB3CDB4DBA11D0CCCBDC2A33.d.C134F03118BF4C776A13075175D8E4BF.e.163\")>,\n",
       " <selenium.webdriver.remote.webelement.WebElement (session=\"16befd9aa1c99d1e8eff35231fae6d7d\", element=\"f.FEDE8E03CB3CDB4DBA11D0CCCBDC2A33.d.C134F03118BF4C776A13075175D8E4BF.e.164\")>,\n",
       " <selenium.webdriver.remote.webelement.WebElement (session=\"16befd9aa1c99d1e8eff35231fae6d7d\", element=\"f.FEDE8E03CB3CDB4DBA11D0CCCBDC2A33.d.C134F03118BF4C776A13075175D8E4BF.e.165\")>,\n",
       " <selenium.webdriver.remote.webelement.WebElement (session=\"16befd9aa1c99d1e8eff35231fae6d7d\", element=\"f.FEDE8E03CB3CDB4DBA11D0CCCBDC2A33.d.C134F03118BF4C776A13075175D8E4BF.e.166\")>,\n",
       " <selenium.webdriver.remote.webelement.WebElement (session=\"16befd9aa1c99d1e8eff35231fae6d7d\", element=\"f.FEDE8E03CB3CDB4DBA11D0CCCBDC2A33.d.C134F03118BF4C776A13075175D8E4BF.e.167\")>,\n",
       " <selenium.webdriver.remote.webelement.WebElement (session=\"16befd9aa1c99d1e8eff35231fae6d7d\", element=\"f.FEDE8E03CB3CDB4DBA11D0CCCBDC2A33.d.C134F03118BF4C776A13075175D8E4BF.e.168\")>,\n",
       " <selenium.webdriver.remote.webelement.WebElement (session=\"16befd9aa1c99d1e8eff35231fae6d7d\", element=\"f.FEDE8E03CB3CDB4DBA11D0CCCBDC2A33.d.C134F03118BF4C776A13075175D8E4BF.e.169\")>,\n",
       " <selenium.webdriver.remote.webelement.WebElement (session=\"16befd9aa1c99d1e8eff35231fae6d7d\", element=\"f.FEDE8E03CB3CDB4DBA11D0CCCBDC2A33.d.C134F03118BF4C776A13075175D8E4BF.e.170\")>,\n",
       " <selenium.webdriver.remote.webelement.WebElement (session=\"16befd9aa1c99d1e8eff35231fae6d7d\", element=\"f.FEDE8E03CB3CDB4DBA11D0CCCBDC2A33.d.C134F03118BF4C776A13075175D8E4BF.e.171\")>,\n",
       " <selenium.webdriver.remote.webelement.WebElement (session=\"16befd9aa1c99d1e8eff35231fae6d7d\", element=\"f.FEDE8E03CB3CDB4DBA11D0CCCBDC2A33.d.C134F03118BF4C776A13075175D8E4BF.e.172\")>]"
      ]
     },
     "execution_count": 13,
     "metadata": {},
     "output_type": "execute_result"
    }
   ],
   "source": [
    "booklist"
   ]
  },
  {
   "cell_type": "code",
   "execution_count": 14,
   "id": "4dd655db",
   "metadata": {},
   "outputs": [],
   "source": [
    "all_links=[]"
   ]
  },
  {
   "cell_type": "code",
   "execution_count": 15,
   "id": "5f78435d",
   "metadata": {},
   "outputs": [],
   "source": [
    "for book in booklist:\n",
    "    link = book.find_element(By.XPATH, \".//div[contains(@class,'ss_book_list')]//a[contains(@class, 'bo3')]\")#.을 쓰면 book안에서만 찾는거\n",
    "    all_links.append(link.get_attribute('href'))\n"
   ]
  },
  {
   "cell_type": "code",
   "execution_count": 16,
   "id": "3b710883",
   "metadata": {},
   "outputs": [
    {
     "data": {
      "text/plain": [
       "['https://www.aladin.co.kr/shop/wproduct.aspx?ItemId=361435920',\n",
       " 'https://www.aladin.co.kr/shop/wproduct.aspx?ItemId=40869703',\n",
       " 'https://www.aladin.co.kr/shop/wproduct.aspx?ItemId=362755853',\n",
       " 'https://www.aladin.co.kr/shop/wproduct.aspx?ItemId=278770576',\n",
       " 'https://www.aladin.co.kr/shop/wproduct.aspx?ItemId=361016676',\n",
       " 'https://www.aladin.co.kr/shop/wproduct.aspx?ItemId=291370219',\n",
       " 'https://www.aladin.co.kr/shop/wproduct.aspx?ItemId=362145851',\n",
       " 'https://www.aladin.co.kr/shop/wproduct.aspx?ItemId=361638715',\n",
       " 'https://www.aladin.co.kr/shop/wproduct.aspx?ItemId=6467598',\n",
       " 'https://www.aladin.co.kr/shop/wproduct.aspx?ItemId=307692409',\n",
       " 'https://www.aladin.co.kr/shop/wproduct.aspx?ItemId=359186288',\n",
       " 'https://www.aladin.co.kr/shop/wproduct.aspx?ItemId=360994667',\n",
       " 'https://www.aladin.co.kr/shop/wproduct.aspx?ItemId=360711714',\n",
       " 'https://www.aladin.co.kr/shop/wproduct.aspx?ItemId=13849130',\n",
       " 'https://www.aladin.co.kr/shop/wproduct.aspx?ItemId=361279117',\n",
       " 'https://www.aladin.co.kr/shop/wproduct.aspx?ItemId=358328336',\n",
       " 'https://www.aladin.co.kr/shop/wproduct.aspx?ItemId=173930663',\n",
       " 'https://www.aladin.co.kr/shop/wproduct.aspx?ItemId=361831201',\n",
       " 'https://www.aladin.co.kr/shop/wproduct.aspx?ItemId=275879438',\n",
       " 'https://www.aladin.co.kr/shop/wproduct.aspx?ItemId=347122460',\n",
       " 'https://www.aladin.co.kr/shop/wproduct.aspx?ItemId=173930726',\n",
       " 'https://www.aladin.co.kr/shop/wproduct.aspx?ItemId=315614621',\n",
       " 'https://www.aladin.co.kr/shop/wproduct.aspx?ItemId=326987',\n",
       " 'https://www.aladin.co.kr/shop/wproduct.aspx?ItemId=343669601',\n",
       " 'https://www.aladin.co.kr/shop/wproduct.aspx?ItemId=360737609',\n",
       " 'https://www.aladin.co.kr/shop/wproduct.aspx?ItemId=338990710',\n",
       " 'https://www.aladin.co.kr/shop/wproduct.aspx?ItemId=317840073',\n",
       " 'https://www.aladin.co.kr/shop/wproduct.aspx?ItemId=344747677',\n",
       " 'https://www.aladin.co.kr/shop/wproduct.aspx?ItemId=355499173',\n",
       " 'https://www.aladin.co.kr/shop/wproduct.aspx?ItemId=360513342',\n",
       " 'https://www.aladin.co.kr/shop/wproduct.aspx?ItemId=357133154',\n",
       " 'https://www.aladin.co.kr/shop/wproduct.aspx?ItemId=275419192',\n",
       " 'https://www.aladin.co.kr/shop/wproduct.aspx?ItemId=362411701',\n",
       " 'https://www.aladin.co.kr/shop/wproduct.aspx?ItemId=350862747',\n",
       " 'https://www.aladin.co.kr/shop/wproduct.aspx?ItemId=318933239',\n",
       " 'https://www.aladin.co.kr/shop/wproduct.aspx?ItemId=312949534',\n",
       " 'https://www.aladin.co.kr/shop/wproduct.aspx?ItemId=312732931',\n",
       " 'https://www.aladin.co.kr/shop/wproduct.aspx?ItemId=361282878',\n",
       " 'https://www.aladin.co.kr/shop/wproduct.aspx?ItemId=363034722',\n",
       " 'https://www.aladin.co.kr/shop/wproduct.aspx?ItemId=358988336',\n",
       " 'https://www.aladin.co.kr/shop/wproduct.aspx?ItemId=362811898',\n",
       " 'https://www.aladin.co.kr/shop/wproduct.aspx?ItemId=362249576',\n",
       " 'https://www.aladin.co.kr/shop/wproduct.aspx?ItemId=355980757',\n",
       " 'https://www.aladin.co.kr/shop/wproduct.aspx?ItemId=361159619',\n",
       " 'https://www.aladin.co.kr/shop/wproduct.aspx?ItemId=244151572',\n",
       " 'https://www.aladin.co.kr/shop/wproduct.aspx?ItemId=198048203',\n",
       " 'https://www.aladin.co.kr/shop/wproduct.aspx?ItemId=193591681',\n",
       " 'https://www.aladin.co.kr/shop/wproduct.aspx?ItemId=112811885',\n",
       " 'https://www.aladin.co.kr/shop/wproduct.aspx?ItemId=361957975',\n",
       " 'https://www.aladin.co.kr/shop/wproduct.aspx?ItemId=290457417']"
      ]
     },
     "execution_count": 16,
     "metadata": {},
     "output_type": "execute_result"
    }
   ],
   "source": [
    "all_links"
   ]
  }
 ],
 "metadata": {
  "kernelspec": {
   "display_name": "[py3.12.4]",
   "language": "python",
   "name": "python3"
  },
  "language_info": {
   "codemirror_mode": {
    "name": "ipython",
    "version": 3
   },
   "file_extension": ".py",
   "mimetype": "text/x-python",
   "name": "python",
   "nbconvert_exporter": "python",
   "pygments_lexer": "ipython3",
   "version": "3.12.4"
  }
 },
 "nbformat": 4,
 "nbformat_minor": 5
}
