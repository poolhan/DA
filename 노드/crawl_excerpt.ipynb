{
 "cells": [
  {
   "cell_type": "code",
   "execution_count": 40,
   "id": "5875f76f",
   "metadata": {},
   "outputs": [],
   "source": [
    "from selenium import webdriver\n",
    "from selenium.webdriver.common.keys import Keys\n",
    "import time\n",
    "from selenium.webdriver.common.by import By"
   ]
  },
  {
   "cell_type": "code",
   "execution_count": 41,
   "id": "9a60292f",
   "metadata": {},
   "outputs": [],
   "source": [
    "driver= webdriver.Chrome()\n",
    "driver.get('https://www.aladin.co.kr/shop/wproduct.aspx?ItemId=40869703')"
   ]
  },
  {
   "cell_type": "code",
   "execution_count": 42,
   "id": "2b77cfc1",
   "metadata": {},
   "outputs": [],
   "source": [
    "# btn_more=driver.find_element(By.XPATH, '//div[@id=\"Underine3Updates\"]//div[@id=\"Underline3_more\"]//a[contains(@href, \"javascript:Underline3.Update();\")]')#더보기 버튼 클릭,contains 사용\n",
    "# btn_more.click()"
   ]
  },
  {
   "cell_type": "code",
   "execution_count": 43,
   "id": "ed6ce5a8",
   "metadata": {},
   "outputs": [],
   "source": [
    "# btn_more=driver.find_element(By.XPATH, '//div[@id=\"Underline3_more\"]//a[contains(@href, \"javascript:Underline3.Update();\")]')#더보기 버튼 클릭,contains 사용\n",
    "# btn_more.click()"
   ]
  },
  {
   "cell_type": "code",
   "execution_count": 45,
   "id": "43cdf812",
   "metadata": {},
   "outputs": [],
   "source": [
    "btn_more = driver.find_element(By.ID, \"Underline3_more\")\n",
    "btn_more.find_element(By.TAG_NAME, \"a\").click()"
   ]
  },
  {
   "cell_type": "code",
   "execution_count": 55,
   "id": "b4f4eef4",
   "metadata": {},
   "outputs": [],
   "source": [
    "excerpt=driver.find_elements(By.XPATH, '//span[starts-with(@id, \"u3_\") and contains(@id, \"_more\")]')"
   ]
  },
  {
   "cell_type": "code",
   "execution_count": 58,
   "id": "7b7f491c",
   "metadata": {},
   "outputs": [
    {
     "data": {
      "text/plain": [
       "[<selenium.webdriver.remote.webelement.WebElement (session=\"b4096512f46e959985d347de26a38546\", element=\"f.0EB6FF0BE2AC028C1A5458FAC481404F.d.4EE3D7BECD5ED7501DC0DAFAB62A9881.e.132\")>,\n",
       " <selenium.webdriver.remote.webelement.WebElement (session=\"b4096512f46e959985d347de26a38546\", element=\"f.0EB6FF0BE2AC028C1A5458FAC481404F.d.4EE3D7BECD5ED7501DC0DAFAB62A9881.e.133\")>,\n",
       " <selenium.webdriver.remote.webelement.WebElement (session=\"b4096512f46e959985d347de26a38546\", element=\"f.0EB6FF0BE2AC028C1A5458FAC481404F.d.4EE3D7BECD5ED7501DC0DAFAB62A9881.e.134\")>,\n",
       " <selenium.webdriver.remote.webelement.WebElement (session=\"b4096512f46e959985d347de26a38546\", element=\"f.0EB6FF0BE2AC028C1A5458FAC481404F.d.4EE3D7BECD5ED7501DC0DAFAB62A9881.e.135\")>,\n",
       " <selenium.webdriver.remote.webelement.WebElement (session=\"b4096512f46e959985d347de26a38546\", element=\"f.0EB6FF0BE2AC028C1A5458FAC481404F.d.4EE3D7BECD5ED7501DC0DAFAB62A9881.e.136\")>,\n",
       " <selenium.webdriver.remote.webelement.WebElement (session=\"b4096512f46e959985d347de26a38546\", element=\"f.0EB6FF0BE2AC028C1A5458FAC481404F.d.4EE3D7BECD5ED7501DC0DAFAB62A9881.e.137\")>,\n",
       " <selenium.webdriver.remote.webelement.WebElement (session=\"b4096512f46e959985d347de26a38546\", element=\"f.0EB6FF0BE2AC028C1A5458FAC481404F.d.4EE3D7BECD5ED7501DC0DAFAB62A9881.e.138\")>,\n",
       " <selenium.webdriver.remote.webelement.WebElement (session=\"b4096512f46e959985d347de26a38546\", element=\"f.0EB6FF0BE2AC028C1A5458FAC481404F.d.4EE3D7BECD5ED7501DC0DAFAB62A9881.e.139\")>,\n",
       " <selenium.webdriver.remote.webelement.WebElement (session=\"b4096512f46e959985d347de26a38546\", element=\"f.0EB6FF0BE2AC028C1A5458FAC481404F.d.4EE3D7BECD5ED7501DC0DAFAB62A9881.e.140\")>,\n",
       " <selenium.webdriver.remote.webelement.WebElement (session=\"b4096512f46e959985d347de26a38546\", element=\"f.0EB6FF0BE2AC028C1A5458FAC481404F.d.4EE3D7BECD5ED7501DC0DAFAB62A9881.e.141\")>]"
      ]
     },
     "execution_count": 58,
     "metadata": {},
     "output_type": "execute_result"
    }
   ],
   "source": [
    "excerpt"
   ]
  },
  {
   "cell_type": "code",
   "execution_count": 59,
   "id": "8b04542d",
   "metadata": {},
   "outputs": [
    {
     "name": "stdout",
     "output_type": "stream",
     "text": [
      "P. 102  네가 죽은 뒤 장례식을 치르지 못해, 내 삶이 장례식이 되었다.네가 방수 모포에 싸여 청소차에 실려간 뒤에.용서할 수 없는 물줄기가 번쩍이며 분수대에서 뿜어져나온 뒤에.어디서나 사원의 불빛이 타고 있었다.봄에 피는 꽃들 속에, 눈송이들 속에, 날마다 찾아오는 저녁들 속에. 다 쓴 음료수 병에 네가 꽂은 양초 불꽃들이.  접기\n",
      "p.122정말 닥쳐올 총살을 기다리듯 숨을 죽였습니다. 죽음은 새 수의같이 서늘한 것일지도 모른다고 그때 생각했습니다. 지나간 여름이 삶이었다면, 피고름과 땀으로 얼룩진 몸뚱이가 삶이었다면, 아무리 신음해도 흐르지 않던 일초들이, 치욕적인 허기 속에서 쉰 콩나물을 씹던 순간들이 삶이었다면, 죽음은 그 모든 걸 한번에 지우는 깨끗한 붓질 같은 것이라고.  접기 -  완벽한위로\n",
      "그 과정에서 네가 이해할 수 없었던 한가지 일은, 입관을 마친 뒤 약식으로 치른 짧은 추도식에서 유족들이 애국가를 부른다는 것이었다. ... 군인들이 죽인 사람들에게 왜 애국가를 불러주는 걸까. 왜 태극기로 관을 감싸는 걸까. 마치 나라가 그들을 죽인 게 아니라는 듯이. ... 군인들이 반란을 일으킨 거잖아, 권력을 잡으려고. 너도 봤을 거 아냐. 한낮에 사람들을 때리고 찌르고, 그래도 안되니까 총을 쐈잖아. 그렇게 하라고 그들이 명령한 거야. 그 사람들을 어떻게 나라라고 부를 수 있어. (p17) 용서하지 않을 거다. 이승에서 가장 끔찍한 것을 본 사람처럼 꿈적거리는 노인의 두 눈을 너는 마주 본다. 아무것도 용서하지 않을 거다. 나 자신까지도. (p45)양심. 그래요, 양심. 세상에서 제일 무서운 게 그겁니다. (p.114)그저 겨울이 지나간게 봄이 오드마는. 봄이 오먼 늘 그랬드키 나는 다시 미치고, 여름이먼 지쳐서 시름시름 앓다가 가을에 겨우 숨을 쉬었다이. 그러다 겨울에는 삭신이 얼었다이. 아무리 무더운 여름이 다시 와도 땀이 안 나도록, 뼛속까지 심장까지 차가워졌다이. (p190)  접기 -  lawplex\n",
      "암것도 속에 없는 허재비 같은 손을 맞잡고, 허재비 같은 등을 서로 문지름스로 얼굴을 들여다봤다이. 얼굴 속에도 암것도 없고, 눈 속에도 암것도 없는 우리들이 내일 보자는 인사를 했다이.무섭지 않았어야. -  떠들러\n",
      "다음의 일은 말하고 싶지 않습니다.더 기억하라고 나에게 말할 권한은 이제 누구에게도 없습니다.선생도 마찬가집니다.아니요, 쏘지 않았습니다.누구도 죽이지 않았습니다.계단을 올라온 군인들이 어둠속에서 다가오는 것을 보면서도, 우리 조의 누구도 방아쇠를 당기지 않았습니다. 방아쇠를 당기면 사람이 죽는다는 걸 알면서 그렇게 할 수가 없었습니다. 우린 쏠 수 없는 총을 나눠 가진 아이들이었던 겁니다. (p.117)  접기 -  다락방\n",
      "특별하게 잔인한 군인들이 있었다.처음 자료를 접하며 가장 이해할 수 없었던 것은, 연행할 목적도 아니면서 반복적으로 저질러진 살상들이었다. 죄의식도 망설임도 없는 한낮의 폭력. 그렇게 잔인성을 발휘하도록 격려하고 명령했을 지휘관들.1979년 가을 부마항쟁을 진압할 때 청와대 비서실장 차지철은 박정희에게 이렇게 말했다고 전해진다. 캄보디아에서는 이백만명도 더 죽였습니다. 우리가 그렇게 못할 이유가 없습니다. 1980년 5월 광주에서 시위가 확대되었을 당시, 군은 거리에서 비무장 시민들을 향해 화염방사기를 발사했다. 인도적 이유로 국제법상 금지되어 있던 납탄을 병사들에게 지급했다. 박정희의 양아들이라고 불릴 만큼 각별한 신임을 받았던 전두환은, 만에 하나 도청이 함락되지 않을 경우 전투기를 보내 도시를 폭격하는 수순을 검토하고 있었다. 집단발포 직전인 5월 21일 오전, 군용 헬기를 타고 와 그 도시의 땅을 밟는 그의 영상을 보았다. 젊은 장군의 태연한 얼굴. 성큼성큼 헬기를 등지고 걸어와, 마중 나온 장교와 힘차게 악수를 나눈다. (p.206-207)  접기 -  다락방\n",
      "어떻게 잊을까 목뼈가 어긋난 건 같았던 그 충격을...소년이 온다 ..중 -  [그장소]\n",
      "아니,  언니를 만나 할 말은 하나뿐이야.  허락된다면.  부디 허락된다면.  죽지 마.  죽지 말아요. -  민주\n",
      "당신이 죽은 뒤 장례식을 치르지 못해,내 삶이 장례식이 되었습니다. -  베로니카\n",
      "그 과정에서 네가 이해할 수 없었던 한가지 일은 입관을 마친 뒤 약식으로 치르는 짦은 추도식에서 유족들이 애국가를 부른다는 것이었다. 관 위에 태극기를 반듯이 펴고 친친 끈으로 묶어놓는 것도 이상했다. 군인들이 죽인 사람들에게 왜 애국가를 불러주는 걸까. 왜 태극기로 관을 감싸는 걸까. 마치 나라가 그들을 죽인 게 아니라는 듯이. -  그루\n"
     ]
    }
   ],
   "source": [
    "for elem in excerpt:\n",
    "    text = driver.execute_script(\"return arguments[0].innerText;\", elem)\n",
    "    print(text.strip())"
   ]
  }
 ],
 "metadata": {
  "kernelspec": {
   "display_name": "base",
   "language": "python",
   "name": "python3"
  },
  "language_info": {
   "codemirror_mode": {
    "name": "ipython",
    "version": 3
   },
   "file_extension": ".py",
   "mimetype": "text/x-python",
   "name": "python",
   "nbconvert_exporter": "python",
   "pygments_lexer": "ipython3",
   "version": "3.12.4"
  }
 },
 "nbformat": 4,
 "nbformat_minor": 5
}
