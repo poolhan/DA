{
 "cells": [
  {
   "cell_type": "markdown",
   "id": "054fd0ae",
   "metadata": {},
   "source": [
    "# 데이터 로드"
   ]
  },
  {
   "cell_type": "code",
   "execution_count": 5,
   "id": "15417abe",
   "metadata": {},
   "outputs": [],
   "source": [
    "import pandas as pd\n",
    "import numpy as np\n",
    "import matplotlib.pyplot as plt\n",
    "import seaborn as sns\n",
    "import xgboost as xgb\n",
    "from sklearn.model_selection import train_test_split\n",
    "from sklearn.metrics import classification_report, confusion_matrix\n",
    "import shap\n",
    "import random\n",
    "\n",
    "random.seed(42)\n",
    "np.random.seed(42)\n",
    "\n",
    "\n",
    "plt.rcParams['font.family'] = ['Malgun Gothic', 'DejaVu Sans']\n",
    "plt.rcParams['axes.unicode_minus'] = False\n",
    "\n"
   ]
  },
  {
   "cell_type": "code",
   "execution_count": 6,
   "id": "c8106cdf",
   "metadata": {},
   "outputs": [
    {
     "name": "stdout",
     "output_type": "stream",
     "text": [
      "<class 'pandas.core.frame.DataFrame'>\n",
      "RangeIndex: 3316 entries, 0 to 3315\n",
      "Data columns (total 10 columns):\n",
      " #   Column             Non-Null Count  Dtype  \n",
      "---  ------             --------------  -----  \n",
      " 0   isbn               3316 non-null   object \n",
      " 1   title              3316 non-null   object \n",
      " 2   publishDate        3316 non-null   int64  \n",
      " 3   price              3316 non-null   int64  \n",
      " 4   pageCount          3316 non-null   int64  \n",
      " 5   size               3316 non-null   float64\n",
      " 6   weight             3316 non-null   int64  \n",
      " 7   label              3316 non-null   int64  \n",
      " 8   author_name_tf     3316 non-null   int64  \n",
      " 9   publisher_name_tf  3316 non-null   int64  \n",
      "dtypes: float64(1), int64(7), object(2)\n",
      "memory usage: 259.2+ KB\n"
     ]
    }
   ],
   "source": [
    "df = pd.read_csv('data_2.csv', dtype={'isbn': str})\n",
    "df.info()"
   ]
  },
  {
   "cell_type": "code",
   "execution_count": 7,
   "id": "5e9c44ce",
   "metadata": {},
   "outputs": [
    {
     "data": {
      "text/plain": [
       "isbn                 0\n",
       "title                0\n",
       "publishDate          0\n",
       "price                0\n",
       "pageCount            0\n",
       "size                 0\n",
       "weight               0\n",
       "label                0\n",
       "author_name_tf       0\n",
       "publisher_name_tf    0\n",
       "dtype: int64"
      ]
     },
     "execution_count": 7,
     "metadata": {},
     "output_type": "execute_result"
    }
   ],
   "source": [
    "df.head()\n",
    "df.describe()\n",
    "df.isnull().sum()"
   ]
  },
  {
   "cell_type": "code",
   "execution_count": 8,
   "id": "7c8f6319",
   "metadata": {},
   "outputs": [
    {
     "data": {
      "text/plain": [
       "(['topic_1',\n",
       "  'topic_2',\n",
       "  'topic_3',\n",
       "  'topic_4',\n",
       "  'topic_5',\n",
       "  'topic_6',\n",
       "  'isbn',\n",
       "  'entropy'],\n",
       " ['topic_1',\n",
       "  'topic_2',\n",
       "  'topic_3',\n",
       "  'topic_4',\n",
       "  'topic_5',\n",
       "  'topic_6',\n",
       "  'isbn',\n",
       "  'entropy'])"
      ]
     },
     "execution_count": 8,
     "metadata": {},
     "output_type": "execute_result"
    }
   ],
   "source": [
    "# 두 CSV 파일 불러오기 (isbn을 문자열로 처리)\n",
    "keyword_best = pd.read_csv('book_with_entropy.csv', dtype={'isbn': str})\n",
    "keyword_book = pd.read_csv('일반도서 entropy.csv', dtype={'isbn': str})\n",
    "\n",
    "# 컬럼 이름 확인\n",
    "best_columns = keyword_best.columns.tolist()\n",
    "book_columns = keyword_book.columns.tolist()\n",
    "\n",
    "best_columns, book_columns"
   ]
  },
  {
   "cell_type": "code",
   "execution_count": 9,
   "id": "9425fb26",
   "metadata": {},
   "outputs": [
    {
     "name": "stdout",
     "output_type": "stream",
     "text": [
      "베스트셀러 수: 1000\n",
      "일반 도서 수: 2316\n"
     ]
    }
   ],
   "source": [
    "df_best = df[df['label'] == 1].copy()\n",
    "df_book = df[df['label'] == 0].copy()\n",
    "\n",
    "print(\"베스트셀러 수:\", len(df_best))\n",
    "print(\"일반 도서 수:\", len(df_book))"
   ]
  },
  {
   "cell_type": "code",
   "execution_count": 10,
   "id": "d4044d04",
   "metadata": {},
   "outputs": [],
   "source": [
    "df_best = df_best.merge(keyword_best, on='isbn', how='left')\n",
    "df_book = df_book.merge(keyword_book, on='isbn', how='left')"
   ]
  },
  {
   "cell_type": "code",
   "execution_count": 11,
   "id": "58d9ae10",
   "metadata": {},
   "outputs": [
    {
     "name": "stdout",
     "output_type": "stream",
     "text": [
      "(3316, 17)\n"
     ]
    }
   ],
   "source": [
    "df = pd.concat([df_best, df_book], ignore_index=True)\n",
    "print(df.shape)"
   ]
  },
  {
   "cell_type": "markdown",
   "id": "7429e3ef",
   "metadata": {},
   "source": [
    "# 이상치"
   ]
  },
  {
   "cell_type": "markdown",
   "id": "98d77664",
   "metadata": {},
   "source": [
    "# XGB"
   ]
  },
  {
   "cell_type": "code",
   "execution_count": 12,
   "id": "6a7796ae",
   "metadata": {},
   "outputs": [],
   "source": [
    "# 토픽 컬럼 리스트\n",
    "topic_cols = ['topic_1', 'topic_2', 'topic_3', 'topic_4', 'topic_5', 'topic_6']\n",
    "\n",
    "# 토픽 컬럼 중 하나라도 결측치가 있으면 그 행 제거\n",
    "df = df.dropna(subset=topic_cols).reset_index(drop=True)"
   ]
  },
  {
   "cell_type": "code",
   "execution_count": 13,
   "id": "fff77adc",
   "metadata": {},
   "outputs": [
    {
     "name": "stdout",
     "output_type": "stream",
     "text": [
      "최종 학습셋 피처 목록: ['publishDate', 'price', 'pageCount', 'size', 'weight', 'author_name_tf', 'publisher_name_tf', 'topic_1_ent', 'topic_2_ent', 'topic_3_ent', 'topic_4_ent', 'topic_5_ent', 'topic_6_ent']\n",
      "   topic_1_ent  topic_2_ent  topic_3_ent  topic_4_ent  topic_5_ent  \\\n",
      "0     0.916387     0.913930     0.916651     0.916384     0.915493   \n",
      "1     0.493764     0.939636     0.493784     0.574116     0.603887   \n",
      "2     0.653680     0.653480     0.653702     1.324400     0.653607   \n",
      "3     0.972937     2.623111     0.973009     0.972937     0.972695   \n",
      "4     0.634834     0.634478     1.245323     0.874361     0.634705   \n",
      "\n",
      "   topic_6_ent  \n",
      "0     2.414208  \n",
      "1     0.493637  \n",
      "2     0.873885  \n",
      "3     0.972463  \n",
      "4     0.634581  \n"
     ]
    }
   ],
   "source": [
    "# 지수변환, 엔트로피\n",
    "topic_cols = ['topic_1', 'topic_2', 'topic_3', 'topic_4', 'topic_5', 'topic_6']\n",
    "\n",
    "# 1. 토픽값에 지수 변환 (exp, 0값 방지용 eps 추가)\n",
    "eps = 1e-5\n",
    "for col in topic_cols:\n",
    "    df[col + '_exp'] = np.exp(df[col].replace(0, eps) + eps)\n",
    "\n",
    "# 2. 엔트로피 정규화 (0~1)\n",
    "max_entropy = np.log2(len(topic_cols))\n",
    "df['entropy_norm'] = df['entropy'] / max_entropy\n",
    "\n",
    "# 3. 1 - 엔트로피 정규화값 계산\n",
    "df['inv_entropy'] = 1 - df['entropy_norm']\n",
    "\n",
    "# 4. k제곱 후, 지수 변환된 토픽값에 곱하기\n",
    "k = 1\n",
    "for col in topic_cols:\n",
    "    df[f'{col}_ent'] = df[col + '_exp'] * (df['inv_entropy'] ** k)\n",
    "\n",
    "# 5. 기존 토픽 컬럼, 엔트로피 관련 컬럼, 지수 변환만 한 컬럼 제외\n",
    "drop_cols = topic_cols + ['entropy', 'entropy_norm', 'inv_entropy'] + [col + '_exp' for col in topic_cols]\n",
    "X = df.drop(columns=drop_cols + ['isbn', 'title', 'label'])\n",
    "y = df['label']\n",
    "\n",
    "# 6. 결과 확인\n",
    "print(\"최종 학습셋 피처 목록:\", X.columns.tolist())\n",
    "print(X[[f'{col}_ent' for col in topic_cols]].head())\n"
   ]
  },
  {
   "cell_type": "code",
   "execution_count": 14,
   "id": "30ad52ba",
   "metadata": {},
   "outputs": [
    {
     "name": "stdout",
     "output_type": "stream",
     "text": [
      "Train shape: (1138, 13)\n",
      "Validation shape: (326, 13)\n",
      "Test shape: (163, 13)\n",
      "최종 feature 목록: ['publishDate', 'price', 'pageCount', 'size', 'weight', 'author_name_tf', 'publisher_name_tf', 'topic_1_ent', 'topic_2_ent', 'topic_3_ent', 'topic_4_ent', 'topic_5_ent', 'topic_6_ent']\n"
     ]
    }
   ],
   "source": [
    "from sklearn.model_selection import train_test_split\n",
    "X_train, X_temp, y_train, y_temp = train_test_split(\n",
    "    X, y, test_size=0.3, random_state=42, stratify=y\n",
    ")\n",
    "X_val, X_test, y_val, y_test = train_test_split(\n",
    "    X_temp, y_temp, test_size=1/3, random_state=42, stratify=y_temp\n",
    ")\n",
    "\n",
    "print(\"Train shape:\", X_train.shape)\n",
    "print(\"Validation shape:\", X_val.shape)\n",
    "print(\"Test shape:\", X_test.shape)\n",
    "print(\"최종 feature 목록:\", X_train.columns.tolist())"
   ]
  },
  {
   "cell_type": "code",
   "execution_count": 15,
   "id": "93960530",
   "metadata": {},
   "outputs": [
    {
     "name": "stderr",
     "output_type": "stream",
     "text": [
      "[I 2025-06-09 16:18:49,043] A new study created in memory with name: no-name-ce93ee8e-2d60-442a-be28-bc6035e61d96\n",
      "Best trial: 0. Best value: 0.923313:   2%|▏         | 1/50 [00:00<00:40,  1.20it/s]"
     ]
    },
    {
     "name": "stdout",
     "output_type": "stream",
     "text": [
      "[I 2025-06-09 16:18:49,878] Trial 0 finished with value: 0.9233128834355828 and parameters: {'n_estimators': 250, 'max_depth': 20, 'min_samples_split': 8, 'min_samples_leaf': 6, 'max_features': 'sqrt', 'bootstrap': True}. Best is trial 0 with value: 0.9233128834355828.\n"
     ]
    },
    {
     "name": "stderr",
     "output_type": "stream",
     "text": [
      "Best trial: 0. Best value: 0.923313:   4%|▍         | 2/50 [00:01<00:39,  1.22it/s]"
     ]
    },
    {
     "name": "stdout",
     "output_type": "stream",
     "text": [
      "[I 2025-06-09 16:18:50,674] Trial 1 finished with value: 0.8803680981595092 and parameters: {'n_estimators': 383, 'max_depth': 3, 'min_samples_split': 10, 'min_samples_leaf': 9, 'max_features': 'sqrt', 'bootstrap': False}. Best is trial 0 with value: 0.9233128834355828.\n"
     ]
    },
    {
     "name": "stderr",
     "output_type": "stream",
     "text": [
      "Best trial: 0. Best value: 0.923313:   6%|▌         | 3/50 [00:02<00:45,  1.02it/s]"
     ]
    },
    {
     "name": "stdout",
     "output_type": "stream",
     "text": [
      "[I 2025-06-09 16:18:51,845] Trial 2 finished with value: 0.911042944785276 and parameters: {'n_estimators': 273, 'max_depth': 8, 'min_samples_split': 7, 'min_samples_leaf': 2, 'max_features': None, 'bootstrap': True}. Best is trial 0 with value: 0.9233128834355828.\n"
     ]
    },
    {
     "name": "stderr",
     "output_type": "stream",
     "text": [
      "Best trial: 0. Best value: 0.923313:   8%|▊         | 4/50 [00:03<00:45,  1.01it/s]"
     ]
    },
    {
     "name": "stdout",
     "output_type": "stream",
     "text": [
      "[I 2025-06-09 16:18:52,865] Trial 3 finished with value: 0.911042944785276 and parameters: {'n_estimators': 306, 'max_depth': 13, 'min_samples_split': 2, 'min_samples_leaf': 7, 'max_features': None, 'bootstrap': True}. Best is trial 0 with value: 0.9233128834355828.\n"
     ]
    },
    {
     "name": "stderr",
     "output_type": "stream",
     "text": [
      "Best trial: 0. Best value: 0.923313:  10%|█         | 5/50 [00:04<00:36,  1.23it/s]"
     ]
    },
    {
     "name": "stdout",
     "output_type": "stream",
     "text": [
      "[I 2025-06-09 16:18:53,358] Trial 4 finished with value: 0.9079754601226994 and parameters: {'n_estimators': 222, 'max_depth': 4, 'min_samples_split': 8, 'min_samples_leaf': 5, 'max_features': 'log2', 'bootstrap': True}. Best is trial 0 with value: 0.9233128834355828.\n"
     ]
    },
    {
     "name": "stderr",
     "output_type": "stream",
     "text": [
      "Best trial: 5. Best value: 0.92638:  12%|█▏        | 6/50 [00:05<00:35,  1.24it/s] "
     ]
    },
    {
     "name": "stdout",
     "output_type": "stream",
     "text": [
      "[I 2025-06-09 16:18:54,146] Trial 5 finished with value: 0.9263803680981595 and parameters: {'n_estimators': 365, 'max_depth': 8, 'min_samples_split': 6, 'min_samples_leaf': 6, 'max_features': 'log2', 'bootstrap': True}. Best is trial 5 with value: 0.9263803680981595.\n"
     ]
    },
    {
     "name": "stderr",
     "output_type": "stream",
     "text": [
      "Best trial: 5. Best value: 0.92638:  14%|█▍        | 7/50 [00:06<00:42,  1.01it/s]"
     ]
    },
    {
     "name": "stdout",
     "output_type": "stream",
     "text": [
      "[I 2025-06-09 16:18:55,513] Trial 6 finished with value: 0.8374233128834356 and parameters: {'n_estimators': 339, 'max_depth': 19, 'min_samples_split': 2, 'min_samples_leaf': 2, 'max_features': None, 'bootstrap': False}. Best is trial 5 with value: 0.9263803680981595.\n"
     ]
    },
    {
     "name": "stderr",
     "output_type": "stream",
     "text": [
      "Best trial: 5. Best value: 0.92638:  16%|█▌        | 8/50 [00:07<00:40,  1.05it/s]"
     ]
    },
    {
     "name": "stdout",
     "output_type": "stream",
     "text": [
      "[I 2025-06-09 16:18:56,396] Trial 7 finished with value: 0.9141104294478528 and parameters: {'n_estimators': 243, 'max_depth': 8, 'min_samples_split': 6, 'min_samples_leaf': 2, 'max_features': None, 'bootstrap': True}. Best is trial 5 with value: 0.9263803680981595.\n"
     ]
    },
    {
     "name": "stderr",
     "output_type": "stream",
     "text": [
      "Best trial: 5. Best value: 0.92638:  18%|█▊        | 9/50 [00:07<00:29,  1.37it/s]"
     ]
    },
    {
     "name": "stdout",
     "output_type": "stream",
     "text": [
      "[I 2025-06-09 16:18:56,623] Trial 8 finished with value: 0.9141104294478528 and parameters: {'n_estimators': 102, 'max_depth': 17, 'min_samples_split': 8, 'min_samples_leaf': 8, 'max_features': 'sqrt', 'bootstrap': False}. Best is trial 5 with value: 0.9263803680981595.\n"
     ]
    },
    {
     "name": "stderr",
     "output_type": "stream",
     "text": [
      "Best trial: 5. Best value: 0.92638:  20%|██        | 10/50 [00:08<00:29,  1.36it/s]"
     ]
    },
    {
     "name": "stdout",
     "output_type": "stream",
     "text": [
      "[I 2025-06-09 16:18:57,385] Trial 9 finished with value: 0.9263803680981595 and parameters: {'n_estimators': 349, 'max_depth': 8, 'min_samples_split': 2, 'min_samples_leaf': 4, 'max_features': 'log2', 'bootstrap': True}. Best is trial 5 with value: 0.9263803680981595.\n"
     ]
    },
    {
     "name": "stderr",
     "output_type": "stream",
     "text": [
      "Best trial: 5. Best value: 0.92638:  22%|██▏       | 11/50 [00:09<00:31,  1.25it/s]"
     ]
    },
    {
     "name": "stdout",
     "output_type": "stream",
     "text": [
      "[I 2025-06-09 16:18:58,329] Trial 10 finished with value: 0.9202453987730062 and parameters: {'n_estimators': 486, 'max_depth': 13, 'min_samples_split': 5, 'min_samples_leaf': 10, 'max_features': 'log2', 'bootstrap': False}. Best is trial 5 with value: 0.9263803680981595.\n"
     ]
    },
    {
     "name": "stderr",
     "output_type": "stream",
     "text": [
      "Best trial: 5. Best value: 0.92638:  24%|██▍       | 12/50 [00:10<00:31,  1.20it/s]"
     ]
    },
    {
     "name": "stdout",
     "output_type": "stream",
     "text": [
      "[I 2025-06-09 16:18:59,237] Trial 11 finished with value: 0.9233128834355828 and parameters: {'n_estimators': 415, 'max_depth': 8, 'min_samples_split': 4, 'min_samples_leaf': 4, 'max_features': 'log2', 'bootstrap': True}. Best is trial 5 with value: 0.9263803680981595.\n"
     ]
    },
    {
     "name": "stderr",
     "output_type": "stream",
     "text": [
      "Best trial: 5. Best value: 0.92638:  26%|██▌       | 13/50 [00:11<00:32,  1.15it/s]"
     ]
    },
    {
     "name": "stdout",
     "output_type": "stream",
     "text": [
      "[I 2025-06-09 16:19:00,199] Trial 12 finished with value: 0.9263803680981595 and parameters: {'n_estimators': 426, 'max_depth': 10, 'min_samples_split': 4, 'min_samples_leaf': 4, 'max_features': 'log2', 'bootstrap': True}. Best is trial 5 with value: 0.9263803680981595.\n"
     ]
    },
    {
     "name": "stderr",
     "output_type": "stream",
     "text": [
      "Best trial: 5. Best value: 0.92638:  28%|██▊       | 14/50 [00:11<00:30,  1.17it/s]"
     ]
    },
    {
     "name": "stdout",
     "output_type": "stream",
     "text": [
      "[I 2025-06-09 16:19:01,014] Trial 13 finished with value: 0.9171779141104295 and parameters: {'n_estimators': 363, 'max_depth': 6, 'min_samples_split': 3, 'min_samples_leaf': 4, 'max_features': 'log2', 'bootstrap': True}. Best is trial 5 with value: 0.9263803680981595.\n"
     ]
    },
    {
     "name": "stderr",
     "output_type": "stream",
     "text": [
      "Best trial: 5. Best value: 0.92638:  30%|███       | 15/50 [00:12<00:25,  1.37it/s]"
     ]
    },
    {
     "name": "stdout",
     "output_type": "stream",
     "text": [
      "[I 2025-06-09 16:19:01,453] Trial 14 finished with value: 0.9263803680981595 and parameters: {'n_estimators': 183, 'max_depth': 11, 'min_samples_split': 10, 'min_samples_leaf': 6, 'max_features': 'log2', 'bootstrap': True}. Best is trial 5 with value: 0.9263803680981595.\n"
     ]
    },
    {
     "name": "stderr",
     "output_type": "stream",
     "text": [
      "Best trial: 5. Best value: 0.92638:  32%|███▏      | 16/50 [00:13<00:29,  1.17it/s]"
     ]
    },
    {
     "name": "stdout",
     "output_type": "stream",
     "text": [
      "[I 2025-06-09 16:19:02,603] Trial 15 finished with value: 0.9141104294478528 and parameters: {'n_estimators': 491, 'max_depth': 6, 'min_samples_split': 6, 'min_samples_leaf': 7, 'max_features': 'log2', 'bootstrap': True}. Best is trial 5 with value: 0.9263803680981595.\n"
     ]
    },
    {
     "name": "stderr",
     "output_type": "stream",
     "text": [
      "Best trial: 5. Best value: 0.92638:  34%|███▍      | 17/50 [00:14<00:27,  1.18it/s]"
     ]
    },
    {
     "name": "stdout",
     "output_type": "stream",
     "text": [
      "[I 2025-06-09 16:19:03,426] Trial 16 finished with value: 0.9171779141104295 and parameters: {'n_estimators': 318, 'max_depth': 16, 'min_samples_split': 4, 'min_samples_leaf': 1, 'max_features': 'log2', 'bootstrap': True}. Best is trial 5 with value: 0.9263803680981595.\n"
     ]
    },
    {
     "name": "stderr",
     "output_type": "stream",
     "text": [
      "Best trial: 5. Best value: 0.92638:  36%|███▌      | 18/50 [00:15<00:27,  1.16it/s]"
     ]
    },
    {
     "name": "stdout",
     "output_type": "stream",
     "text": [
      "[I 2025-06-09 16:19:04,330] Trial 17 finished with value: 0.9171779141104295 and parameters: {'n_estimators': 432, 'max_depth': 6, 'min_samples_split': 3, 'min_samples_leaf': 5, 'max_features': 'log2', 'bootstrap': True}. Best is trial 5 with value: 0.9263803680981595.\n"
     ]
    },
    {
     "name": "stderr",
     "output_type": "stream",
     "text": [
      "Best trial: 5. Best value: 0.92638:  38%|███▊      | 19/50 [00:16<00:26,  1.17it/s]"
     ]
    },
    {
     "name": "stdout",
     "output_type": "stream",
     "text": [
      "[I 2025-06-09 16:19:05,163] Trial 18 finished with value: 0.9263803680981595 and parameters: {'n_estimators': 378, 'max_depth': 10, 'min_samples_split': 5, 'min_samples_leaf': 3, 'max_features': 'log2', 'bootstrap': False}. Best is trial 5 with value: 0.9263803680981595.\n"
     ]
    },
    {
     "name": "stderr",
     "output_type": "stream",
     "text": [
      "Best trial: 5. Best value: 0.92638:  40%|████      | 20/50 [00:16<00:23,  1.28it/s]"
     ]
    },
    {
     "name": "stdout",
     "output_type": "stream",
     "text": [
      "[I 2025-06-09 16:19:05,781] Trial 19 finished with value: 0.9233128834355828 and parameters: {'n_estimators': 284, 'max_depth': 14, 'min_samples_split': 9, 'min_samples_leaf': 7, 'max_features': 'sqrt', 'bootstrap': True}. Best is trial 5 with value: 0.9263803680981595.\n"
     ]
    },
    {
     "name": "stderr",
     "output_type": "stream",
     "text": [
      "Best trial: 5. Best value: 0.92638:  42%|████▏     | 21/50 [00:17<00:24,  1.20it/s]"
     ]
    },
    {
     "name": "stdout",
     "output_type": "stream",
     "text": [
      "[I 2025-06-09 16:19:06,740] Trial 20 finished with value: 0.9263803680981595 and parameters: {'n_estimators': 459, 'max_depth': 9, 'min_samples_split': 6, 'min_samples_leaf': 8, 'max_features': 'log2', 'bootstrap': True}. Best is trial 5 with value: 0.9263803680981595.\n"
     ]
    },
    {
     "name": "stderr",
     "output_type": "stream",
     "text": [
      "Best trial: 5. Best value: 0.92638:  44%|████▍     | 22/50 [00:18<00:23,  1.17it/s]"
     ]
    },
    {
     "name": "stdout",
     "output_type": "stream",
     "text": [
      "[I 2025-06-09 16:19:07,634] Trial 21 finished with value: 0.9263803680981595 and parameters: {'n_estimators': 417, 'max_depth': 10, 'min_samples_split': 3, 'min_samples_leaf': 4, 'max_features': 'log2', 'bootstrap': True}. Best is trial 5 with value: 0.9263803680981595.\n"
     ]
    },
    {
     "name": "stderr",
     "output_type": "stream",
     "text": [
      "Best trial: 5. Best value: 0.92638:  46%|████▌     | 23/50 [00:19<00:23,  1.13it/s]"
     ]
    },
    {
     "name": "stdout",
     "output_type": "stream",
     "text": [
      "[I 2025-06-09 16:19:08,592] Trial 22 finished with value: 0.9202453987730062 and parameters: {'n_estimators': 362, 'max_depth': 12, 'min_samples_split': 4, 'min_samples_leaf': 3, 'max_features': 'log2', 'bootstrap': True}. Best is trial 5 with value: 0.9263803680981595.\n"
     ]
    },
    {
     "name": "stderr",
     "output_type": "stream",
     "text": [
      "Best trial: 5. Best value: 0.92638:  48%|████▊     | 24/50 [00:20<00:23,  1.11it/s]"
     ]
    },
    {
     "name": "stdout",
     "output_type": "stream",
     "text": [
      "[I 2025-06-09 16:19:09,525] Trial 23 finished with value: 0.9202453987730062 and parameters: {'n_estimators': 442, 'max_depth': 7, 'min_samples_split': 5, 'min_samples_leaf': 5, 'max_features': 'log2', 'bootstrap': True}. Best is trial 5 with value: 0.9263803680981595.\n"
     ]
    },
    {
     "name": "stderr",
     "output_type": "stream",
     "text": [
      "Best trial: 5. Best value: 0.92638:  50%|█████     | 25/50 [00:21<00:22,  1.13it/s]"
     ]
    },
    {
     "name": "stdout",
     "output_type": "stream",
     "text": [
      "[I 2025-06-09 16:19:10,368] Trial 24 finished with value: 0.9141104294478528 and parameters: {'n_estimators': 405, 'max_depth': 5, 'min_samples_split': 2, 'min_samples_leaf': 3, 'max_features': 'log2', 'bootstrap': True}. Best is trial 5 with value: 0.9263803680981595.\n"
     ]
    },
    {
     "name": "stderr",
     "output_type": "stream",
     "text": [
      "Best trial: 5. Best value: 0.92638:  52%|█████▏    | 26/50 [00:22<00:20,  1.19it/s]"
     ]
    },
    {
     "name": "stdout",
     "output_type": "stream",
     "text": [
      "[I 2025-06-09 16:19:11,107] Trial 25 finished with value: 0.9233128834355828 and parameters: {'n_estimators': 338, 'max_depth': 10, 'min_samples_split': 3, 'min_samples_leaf': 6, 'max_features': 'log2', 'bootstrap': True}. Best is trial 5 with value: 0.9263803680981595.\n"
     ]
    },
    {
     "name": "stderr",
     "output_type": "stream",
     "text": [
      "Best trial: 5. Best value: 0.92638:  54%|█████▍    | 27/50 [00:22<00:18,  1.21it/s]"
     ]
    },
    {
     "name": "stdout",
     "output_type": "stream",
     "text": [
      "[I 2025-06-09 16:19:11,894] Trial 26 finished with value: 0.9263803680981595 and parameters: {'n_estimators': 392, 'max_depth': 11, 'min_samples_split': 7, 'min_samples_leaf': 4, 'max_features': 'log2', 'bootstrap': False}. Best is trial 5 with value: 0.9263803680981595.\n"
     ]
    },
    {
     "name": "stderr",
     "output_type": "stream",
     "text": [
      "Best trial: 5. Best value: 0.92638:  56%|█████▌    | 28/50 [00:24<00:20,  1.07it/s]"
     ]
    },
    {
     "name": "stdout",
     "output_type": "stream",
     "text": [
      "[I 2025-06-09 16:19:13,086] Trial 27 finished with value: 0.9233128834355828 and parameters: {'n_estimators': 458, 'max_depth': 15, 'min_samples_split': 4, 'min_samples_leaf': 5, 'max_features': 'log2', 'bootstrap': True}. Best is trial 5 with value: 0.9263803680981595.\n"
     ]
    },
    {
     "name": "stderr",
     "output_type": "stream",
     "text": [
      "Best trial: 5. Best value: 0.92638:  58%|█████▊    | 29/50 [00:25<00:20,  1.04it/s]"
     ]
    },
    {
     "name": "stdout",
     "output_type": "stream",
     "text": [
      "[I 2025-06-09 16:19:14,119] Trial 28 finished with value: 0.9049079754601227 and parameters: {'n_estimators': 330, 'max_depth': 9, 'min_samples_split': 5, 'min_samples_leaf': 3, 'max_features': None, 'bootstrap': True}. Best is trial 5 with value: 0.9263803680981595.\n"
     ]
    },
    {
     "name": "stderr",
     "output_type": "stream",
     "text": [
      "Best trial: 5. Best value: 0.92638:  60%|██████    | 30/50 [00:25<00:18,  1.09it/s]"
     ]
    },
    {
     "name": "stdout",
     "output_type": "stream",
     "text": [
      "[I 2025-06-09 16:19:14,920] Trial 29 finished with value: 0.9233128834355828 and parameters: {'n_estimators': 362, 'max_depth': 7, 'min_samples_split': 7, 'min_samples_leaf': 6, 'max_features': 'sqrt', 'bootstrap': True}. Best is trial 5 with value: 0.9263803680981595.\n"
     ]
    },
    {
     "name": "stderr",
     "output_type": "stream",
     "text": [
      "Best trial: 5. Best value: 0.92638:  62%|██████▏   | 31/50 [00:26<00:15,  1.25it/s]"
     ]
    },
    {
     "name": "stdout",
     "output_type": "stream",
     "text": [
      "[I 2025-06-09 16:19:15,459] Trial 30 finished with value: 0.9202453987730062 and parameters: {'n_estimators': 211, 'max_depth': 12, 'min_samples_split': 2, 'min_samples_leaf': 1, 'max_features': 'sqrt', 'bootstrap': True}. Best is trial 5 with value: 0.9263803680981595.\n"
     ]
    },
    {
     "name": "stderr",
     "output_type": "stream",
     "text": [
      "Best trial: 5. Best value: 0.92638:  64%|██████▍   | 32/50 [00:26<00:12,  1.46it/s]"
     ]
    },
    {
     "name": "stdout",
     "output_type": "stream",
     "text": [
      "[I 2025-06-09 16:19:15,876] Trial 31 finished with value: 0.9263803680981595 and parameters: {'n_estimators': 170, 'max_depth': 11, 'min_samples_split': 10, 'min_samples_leaf': 6, 'max_features': 'log2', 'bootstrap': True}. Best is trial 5 with value: 0.9263803680981595.\n"
     ]
    },
    {
     "name": "stderr",
     "output_type": "stream",
     "text": [
      "Best trial: 32. Best value: 0.929448:  66%|██████▌   | 33/50 [00:27<00:09,  1.75it/s]"
     ]
    },
    {
     "name": "stdout",
     "output_type": "stream",
     "text": [
      "[I 2025-06-09 16:19:16,171] Trial 32 finished with value: 0.9294478527607362 and parameters: {'n_estimators': 112, 'max_depth': 9, 'min_samples_split': 9, 'min_samples_leaf': 6, 'max_features': 'log2', 'bootstrap': True}. Best is trial 32 with value: 0.9294478527607362.\n"
     ]
    },
    {
     "name": "stderr",
     "output_type": "stream",
     "text": [
      "Best trial: 32. Best value: 0.929448:  68%|██████▊   | 34/50 [00:27<00:08,  1.99it/s]"
     ]
    },
    {
     "name": "stdout",
     "output_type": "stream",
     "text": [
      "[I 2025-06-09 16:19:16,514] Trial 33 finished with value: 0.9294478527607362 and parameters: {'n_estimators': 132, 'max_depth': 9, 'min_samples_split': 9, 'min_samples_leaf': 8, 'max_features': 'log2', 'bootstrap': True}. Best is trial 32 with value: 0.9294478527607362.\n"
     ]
    },
    {
     "name": "stderr",
     "output_type": "stream",
     "text": [
      "Best trial: 32. Best value: 0.929448:  70%|███████   | 35/50 [00:27<00:06,  2.32it/s]"
     ]
    },
    {
     "name": "stdout",
     "output_type": "stream",
     "text": [
      "[I 2025-06-09 16:19:16,781] Trial 34 finished with value: 0.8803680981595092 and parameters: {'n_estimators': 101, 'max_depth': 3, 'min_samples_split': 9, 'min_samples_leaf': 8, 'max_features': 'log2', 'bootstrap': True}. Best is trial 32 with value: 0.9294478527607362.\n"
     ]
    },
    {
     "name": "stderr",
     "output_type": "stream",
     "text": [
      "Best trial: 32. Best value: 0.929448:  72%|███████▏  | 36/50 [00:28<00:05,  2.47it/s]"
     ]
    },
    {
     "name": "stdout",
     "output_type": "stream",
     "text": [
      "[I 2025-06-09 16:19:17,128] Trial 35 finished with value: 0.9233128834355828 and parameters: {'n_estimators': 132, 'max_depth': 9, 'min_samples_split': 9, 'min_samples_leaf': 9, 'max_features': 'log2', 'bootstrap': True}. Best is trial 32 with value: 0.9294478527607362.\n"
     ]
    },
    {
     "name": "stderr",
     "output_type": "stream",
     "text": [
      "Best trial: 32. Best value: 0.929448:  74%|███████▍  | 37/50 [00:28<00:06,  2.16it/s]"
     ]
    },
    {
     "name": "stdout",
     "output_type": "stream",
     "text": [
      "[I 2025-06-09 16:19:17,722] Trial 36 finished with value: 0.8374233128834356 and parameters: {'n_estimators': 147, 'max_depth': 5, 'min_samples_split': 8, 'min_samples_leaf': 7, 'max_features': None, 'bootstrap': False}. Best is trial 32 with value: 0.9294478527607362.\n"
     ]
    },
    {
     "name": "stderr",
     "output_type": "stream",
     "text": [
      "Best trial: 32. Best value: 0.929448:  76%|███████▌  | 38/50 [00:29<00:06,  1.96it/s]"
     ]
    },
    {
     "name": "stdout",
     "output_type": "stream",
     "text": [
      "[I 2025-06-09 16:19:18,345] Trial 37 finished with value: 0.9202453987730062 and parameters: {'n_estimators': 280, 'max_depth': 7, 'min_samples_split': 9, 'min_samples_leaf': 9, 'max_features': 'sqrt', 'bootstrap': True}. Best is trial 32 with value: 0.9294478527607362.\n"
     ]
    },
    {
     "name": "stderr",
     "output_type": "stream",
     "text": [
      "Best trial: 32. Best value: 0.929448:  78%|███████▊  | 39/50 [00:30<00:06,  1.68it/s]"
     ]
    },
    {
     "name": "stdout",
     "output_type": "stream",
     "text": [
      "[I 2025-06-09 16:19:19,133] Trial 38 finished with value: 0.901840490797546 and parameters: {'n_estimators': 259, 'max_depth': 8, 'min_samples_split': 8, 'min_samples_leaf': 10, 'max_features': None, 'bootstrap': True}. Best is trial 32 with value: 0.9294478527607362.\n"
     ]
    },
    {
     "name": "stderr",
     "output_type": "stream",
     "text": [
      "Best trial: 32. Best value: 0.929448:  80%|████████  | 40/50 [00:30<00:05,  1.96it/s]"
     ]
    },
    {
     "name": "stdout",
     "output_type": "stream",
     "text": [
      "[I 2025-06-09 16:19:19,449] Trial 39 finished with value: 0.9171779141104295 and parameters: {'n_estimators': 132, 'max_depth': 9, 'min_samples_split': 10, 'min_samples_leaf': 8, 'max_features': 'log2', 'bootstrap': False}. Best is trial 32 with value: 0.9294478527607362.\n"
     ]
    },
    {
     "name": "stderr",
     "output_type": "stream",
     "text": [
      "Best trial: 32. Best value: 0.929448:  82%|████████▏ | 41/50 [00:31<00:05,  1.78it/s]"
     ]
    },
    {
     "name": "stdout",
     "output_type": "stream",
     "text": [
      "[I 2025-06-09 16:19:20,137] Trial 40 finished with value: 0.9263803680981595 and parameters: {'n_estimators': 302, 'max_depth': 13, 'min_samples_split': 7, 'min_samples_leaf': 5, 'max_features': 'log2', 'bootstrap': True}. Best is trial 32 with value: 0.9294478527607362.\n"
     ]
    },
    {
     "name": "stderr",
     "output_type": "stream",
     "text": [
      "Best trial: 32. Best value: 0.929448:  84%|████████▍ | 42/50 [00:31<00:04,  1.87it/s]"
     ]
    },
    {
     "name": "stdout",
     "output_type": "stream",
     "text": [
      "[I 2025-06-09 16:19:20,602] Trial 41 finished with value: 0.9233128834355828 and parameters: {'n_estimators': 190, 'max_depth': 8, 'min_samples_split': 7, 'min_samples_leaf': 7, 'max_features': 'log2', 'bootstrap': True}. Best is trial 32 with value: 0.9294478527607362.\n"
     ]
    },
    {
     "name": "stderr",
     "output_type": "stream",
     "text": [
      "Best trial: 32. Best value: 0.929448:  86%|████████▌ | 43/50 [00:31<00:03,  2.10it/s]"
     ]
    },
    {
     "name": "stdout",
     "output_type": "stream",
     "text": [
      "[I 2025-06-09 16:19:20,946] Trial 42 finished with value: 0.9263803680981595 and parameters: {'n_estimators': 128, 'max_depth': 10, 'min_samples_split': 8, 'min_samples_leaf': 4, 'max_features': 'log2', 'bootstrap': True}. Best is trial 32 with value: 0.9294478527607362.\n"
     ]
    },
    {
     "name": "stderr",
     "output_type": "stream",
     "text": [
      "Best trial: 32. Best value: 0.929448:  88%|████████▊ | 44/50 [00:32<00:02,  2.20it/s]"
     ]
    },
    {
     "name": "stdout",
     "output_type": "stream",
     "text": [
      "[I 2025-06-09 16:19:21,351] Trial 43 finished with value: 0.9202453987730062 and parameters: {'n_estimators': 161, 'max_depth': 7, 'min_samples_split': 9, 'min_samples_leaf': 5, 'max_features': 'log2', 'bootstrap': True}. Best is trial 32 with value: 0.9294478527607362.\n"
     ]
    },
    {
     "name": "stderr",
     "output_type": "stream",
     "text": [
      "Best trial: 32. Best value: 0.929448:  90%|█████████ | 45/50 [00:32<00:02,  1.98it/s]"
     ]
    },
    {
     "name": "stdout",
     "output_type": "stream",
     "text": [
      "[I 2025-06-09 16:19:21,971] Trial 44 finished with value: 0.9202453987730062 and parameters: {'n_estimators': 233, 'max_depth': 9, 'min_samples_split': 2, 'min_samples_leaf': 2, 'max_features': 'log2', 'bootstrap': True}. Best is trial 32 with value: 0.9294478527607362.\n"
     ]
    },
    {
     "name": "stderr",
     "output_type": "stream",
     "text": [
      "Best trial: 32. Best value: 0.929448:  92%|█████████▏| 46/50 [00:33<00:02,  1.65it/s]"
     ]
    },
    {
     "name": "stdout",
     "output_type": "stream",
     "text": [
      "[I 2025-06-09 16:19:22,820] Trial 45 finished with value: 0.9233128834355828 and parameters: {'n_estimators': 382, 'max_depth': 5, 'min_samples_split': 6, 'min_samples_leaf': 6, 'max_features': 'log2', 'bootstrap': True}. Best is trial 32 with value: 0.9294478527607362.\n"
     ]
    },
    {
     "name": "stderr",
     "output_type": "stream",
     "text": [
      "Best trial: 32. Best value: 0.929448:  94%|█████████▍| 47/50 [00:34<00:02,  1.34it/s]"
     ]
    },
    {
     "name": "stdout",
     "output_type": "stream",
     "text": [
      "[I 2025-06-09 16:19:23,886] Trial 46 finished with value: 0.901840490797546 and parameters: {'n_estimators': 342, 'max_depth': 20, 'min_samples_split': 5, 'min_samples_leaf': 9, 'max_features': None, 'bootstrap': True}. Best is trial 32 with value: 0.9294478527607362.\n"
     ]
    },
    {
     "name": "stderr",
     "output_type": "stream",
     "text": [
      "Best trial: 32. Best value: 0.929448:  96%|█████████▌| 48/50 [00:35<00:01,  1.40it/s]"
     ]
    },
    {
     "name": "stdout",
     "output_type": "stream",
     "text": [
      "[I 2025-06-09 16:19:24,525] Trial 47 finished with value: 0.9202453987730062 and parameters: {'n_estimators': 312, 'max_depth': 18, 'min_samples_split': 3, 'min_samples_leaf': 7, 'max_features': 'log2', 'bootstrap': False}. Best is trial 32 with value: 0.9294478527607362.\n"
     ]
    },
    {
     "name": "stderr",
     "output_type": "stream",
     "text": [
      "Best trial: 32. Best value: 0.929448:  98%|█████████▊| 49/50 [00:35<00:00,  1.67it/s]"
     ]
    },
    {
     "name": "stdout",
     "output_type": "stream",
     "text": [
      "[I 2025-06-09 16:19:24,853] Trial 48 finished with value: 0.9263803680981595 and parameters: {'n_estimators': 118, 'max_depth': 8, 'min_samples_split': 4, 'min_samples_leaf': 4, 'max_features': 'log2', 'bootstrap': True}. Best is trial 32 with value: 0.9294478527607362.\n"
     ]
    },
    {
     "name": "stderr",
     "output_type": "stream",
     "text": [
      "Best trial: 32. Best value: 0.929448: 100%|██████████| 50/50 [00:36<00:00,  1.36it/s]\n"
     ]
    },
    {
     "name": "stdout",
     "output_type": "stream",
     "text": [
      "[I 2025-06-09 16:19:25,727] Trial 49 finished with value: 0.9263803680981595 and parameters: {'n_estimators': 400, 'max_depth': 12, 'min_samples_split': 10, 'min_samples_leaf': 5, 'max_features': 'sqrt', 'bootstrap': True}. Best is trial 32 with value: 0.9294478527607362.\n",
      "\n",
      "==== RF_baseline ====\n",
      "[[109  16]\n",
      " [ 10 191]]\n",
      "              precision    recall  f1-score   support\n",
      "\n",
      "           0       0.92      0.87      0.89       125\n",
      "           1       0.92      0.95      0.94       201\n",
      "\n",
      "    accuracy                           0.92       326\n",
      "   macro avg       0.92      0.91      0.91       326\n",
      "weighted avg       0.92      0.92      0.92       326\n",
      "\n",
      "\n",
      "==== RF_optuna ====\n",
      "[[109  16]\n",
      " [  7 194]]\n",
      "              precision    recall  f1-score   support\n",
      "\n",
      "           0       0.94      0.87      0.90       125\n",
      "           1       0.92      0.97      0.94       201\n",
      "\n",
      "    accuracy                           0.93       326\n",
      "   macro avg       0.93      0.92      0.92       326\n",
      "weighted avg       0.93      0.93      0.93       326\n",
      "\n",
      "Best Params: {'n_estimators': 112, 'max_depth': 9, 'min_samples_split': 9, 'min_samples_leaf': 6, 'max_features': 'log2', 'bootstrap': True}\n"
     ]
    }
   ],
   "source": [
    "import optuna\n",
    "from sklearn.ensemble import RandomForestClassifier\n",
    "from sklearn.metrics import accuracy_score, classification_report, confusion_matrix\n",
    "import matplotlib.pyplot as plt\n",
    "\n",
    "# 1️⃣ 기본 모델\n",
    "basic_model = RandomForestClassifier(random_state=42, n_jobs=-1)\n",
    "basic_model.fit(X_train, y_train)\n",
    "y_val_pred_basic = basic_model.predict(X_val)\n",
    "\n",
    "results = []\n",
    "results.append({\n",
    "    'name': 'RF_baseline',\n",
    "    'model': basic_model,\n",
    "    'conf_matrix': confusion_matrix(y_val, y_val_pred_basic),\n",
    "    'report': classification_report(y_val, y_val_pred_basic, output_dict=False)\n",
    "})\n",
    "\n",
    "# 2️⃣ Optuna 목적 함수\n",
    "def objective(trial):\n",
    "    params = {\n",
    "        'n_estimators': trial.suggest_int('n_estimators', 100, 500),\n",
    "        'max_depth': trial.suggest_int('max_depth', 3, 20),\n",
    "        'min_samples_split': trial.suggest_int('min_samples_split', 2, 10),\n",
    "        'min_samples_leaf': trial.suggest_int('min_samples_leaf', 1, 10),\n",
    "        'max_features': trial.suggest_categorical('max_features', ['sqrt', 'log2', None]),\n",
    "        'bootstrap': trial.suggest_categorical('bootstrap', [True, False]),\n",
    "        'random_state': 42,\n",
    "        'n_jobs': -1\n",
    "    }\n",
    "\n",
    "    model = RandomForestClassifier(**params)\n",
    "    model.fit(X_train, y_train)\n",
    "    preds = model.predict(X_val)\n",
    "    return accuracy_score(y_val, preds)\n",
    "\n",
    "# 3️⃣ Optuna 최적화 실행\n",
    "sampler = optuna.samplers.TPESampler(seed=42)\n",
    "study = optuna.create_study(direction='maximize', sampler=sampler)\n",
    "study.optimize(objective, n_trials=50, show_progress_bar=True)\n",
    "\n",
    "# 4️⃣ 최적 모델 학습\n",
    "best_params = study.best_trial.params\n",
    "best_model = RandomForestClassifier(**best_params)\n",
    "best_model.fit(X_train, y_train)\n",
    "\n",
    "y_val_pred_tuned = best_model.predict(X_val)\n",
    "\n",
    "results.append({\n",
    "    'name': 'RF_optuna',\n",
    "    'model': best_model,\n",
    "    'conf_matrix': confusion_matrix(y_val, y_val_pred_tuned),\n",
    "    'report': classification_report(y_val, y_val_pred_tuned, output_dict=False),\n",
    "    'best_params': best_params\n",
    "})\n",
    "\n",
    "# 5️⃣ 결과 출력\n",
    "for res in results:\n",
    "    print(f\"\\n==== {res['name']} ====\")\n",
    "    print(res['conf_matrix'])\n",
    "    print(res['report'])\n",
    "    if 'best_params' in res:\n",
    "        print(\"Best Params:\", res['best_params'])\n"
   ]
  },
  {
   "cell_type": "code",
   "execution_count": 16,
   "id": "4e2356fa",
   "metadata": {},
   "outputs": [],
   "source": [
    "# # 원본 데이터 df에서 validation 인덱스만 추출\n",
    "# isbn_val = df.loc[X_val.index, 'isbn']\n",
    "\n",
    "# output_df = pd.DataFrame({\n",
    "#     'isbn': isbn_val.values,\n",
    "#     'y_pred': y_pred\n",
    "# })\n",
    "\n",
    "# output_df.to_csv('y_pred.csv', index=False)\n"
   ]
  },
  {
   "cell_type": "code",
   "execution_count": 17,
   "id": "b732ef95",
   "metadata": {},
   "outputs": [
    {
     "name": "stdout",
     "output_type": "stream",
     "text": [
      "Train Accuracy: 0.9560632688927944\n",
      "Val Accuracy: 0.9294478527607362\n",
      "Test Accuracy: 0.901840490797546\n"
     ]
    }
   ],
   "source": [
    "print(\"Train Accuracy:\", accuracy_score(y_train, best_model.predict(X_train)))\n",
    "print(\"Val Accuracy:\", accuracy_score(y_val, best_model.predict(X_val)))\n",
    "print(\"Test Accuracy:\", accuracy_score(y_test, best_model.predict(X_test)))"
   ]
  },
  {
   "cell_type": "code",
   "execution_count": 18,
   "id": "64a61dce",
   "metadata": {},
   "outputs": [
    {
     "ename": "ValueError",
     "evalue": "tree must be Booster, XGBModel or dict instance",
     "output_type": "error",
     "traceback": [
      "\u001b[1;31m---------------------------------------------------------------------------\u001b[0m",
      "\u001b[1;31mValueError\u001b[0m                                Traceback (most recent call last)",
      "Cell \u001b[1;32mIn[18], line 2\u001b[0m\n\u001b[0;32m      1\u001b[0m \u001b[38;5;66;03m# 피처 중요도 시각화 (Gain 기준)\u001b[39;00m\n\u001b[1;32m----> 2\u001b[0m \u001b[43mxgb\u001b[49m\u001b[38;5;241;43m.\u001b[39;49m\u001b[43mplot_importance\u001b[49m\u001b[43m(\u001b[49m\u001b[43mbest_model\u001b[49m\u001b[43m,\u001b[49m\u001b[43m \u001b[49m\u001b[43mimportance_type\u001b[49m\u001b[38;5;241;43m=\u001b[39;49m\u001b[38;5;124;43m'\u001b[39;49m\u001b[38;5;124;43mgain\u001b[39;49m\u001b[38;5;124;43m'\u001b[39;49m\u001b[43m,\u001b[49m\u001b[43m \u001b[49m\u001b[43mmax_num_features\u001b[49m\u001b[38;5;241;43m=\u001b[39;49m\u001b[38;5;241;43m10\u001b[39;49m\u001b[43m)\u001b[49m\n\u001b[0;32m      3\u001b[0m plt\u001b[38;5;241m.\u001b[39mtitle(\u001b[38;5;124m\"\u001b[39m\u001b[38;5;124mFeature Importance (Gain 기준)\u001b[39m\u001b[38;5;124m\"\u001b[39m)\n\u001b[0;32m      4\u001b[0m plt\u001b[38;5;241m.\u001b[39mtight_layout()\n",
      "File \u001b[1;32mc:\\anaconda\\envs\\[py3.12.4]\\Lib\\site-packages\\xgboost\\core.py:729\u001b[0m, in \u001b[0;36mrequire_keyword_args.<locals>.throw_if.<locals>.inner_f\u001b[1;34m(*args, **kwargs)\u001b[0m\n\u001b[0;32m    727\u001b[0m \u001b[38;5;28;01mfor\u001b[39;00m k, arg \u001b[38;5;129;01min\u001b[39;00m \u001b[38;5;28mzip\u001b[39m(sig\u001b[38;5;241m.\u001b[39mparameters, args):\n\u001b[0;32m    728\u001b[0m     kwargs[k] \u001b[38;5;241m=\u001b[39m arg\n\u001b[1;32m--> 729\u001b[0m \u001b[38;5;28;01mreturn\u001b[39;00m \u001b[43mfunc\u001b[49m\u001b[43m(\u001b[49m\u001b[38;5;241;43m*\u001b[39;49m\u001b[38;5;241;43m*\u001b[39;49m\u001b[43mkwargs\u001b[49m\u001b[43m)\u001b[49m\n",
      "File \u001b[1;32mc:\\anaconda\\envs\\[py3.12.4]\\Lib\\site-packages\\xgboost\\plotting.py:99\u001b[0m, in \u001b[0;36mplot_importance\u001b[1;34m(booster, ax, height, xlim, ylim, title, xlabel, ylabel, fmap, importance_type, max_num_features, grid, show_values, values_format, **kwargs)\u001b[0m\n\u001b[0;32m     97\u001b[0m     importance \u001b[38;5;241m=\u001b[39m booster\n\u001b[0;32m     98\u001b[0m \u001b[38;5;28;01melse\u001b[39;00m:\n\u001b[1;32m---> 99\u001b[0m     \u001b[38;5;28;01mraise\u001b[39;00m \u001b[38;5;167;01mValueError\u001b[39;00m(\u001b[38;5;124m\"\u001b[39m\u001b[38;5;124mtree must be Booster, XGBModel or dict instance\u001b[39m\u001b[38;5;124m\"\u001b[39m)\n\u001b[0;32m    101\u001b[0m \u001b[38;5;28;01mif\u001b[39;00m \u001b[38;5;129;01mnot\u001b[39;00m importance:\n\u001b[0;32m    102\u001b[0m     \u001b[38;5;28;01mraise\u001b[39;00m \u001b[38;5;167;01mValueError\u001b[39;00m(\n\u001b[0;32m    103\u001b[0m         \u001b[38;5;124m\"\u001b[39m\u001b[38;5;124mBooster.get_score() results in empty.  \u001b[39m\u001b[38;5;124m\"\u001b[39m\n\u001b[0;32m    104\u001b[0m         \u001b[38;5;241m+\u001b[39m \u001b[38;5;124m\"\u001b[39m\u001b[38;5;124mThis maybe caused by having all trees as decision dumps.\u001b[39m\u001b[38;5;124m\"\u001b[39m\n\u001b[0;32m    105\u001b[0m     )\n",
      "\u001b[1;31mValueError\u001b[0m: tree must be Booster, XGBModel or dict instance"
     ]
    }
   ],
   "source": [
    "# 피처 중요도 시각화 (Gain 기준)\n",
    "xgb.plot_importance(best_model, importance_type='gain', max_num_features=10)\n",
    "plt.title(\"Feature Importance (Gain 기준)\")\n",
    "plt.tight_layout()\n",
    "plt.show()"
   ]
  },
  {
   "cell_type": "code",
   "execution_count": 21,
   "id": "3ca4945f",
   "metadata": {},
   "outputs": [
    {
     "name": "stderr",
     "output_type": "stream",
     "text": [
      "C:\\Users\\학부연구생\\AppData\\Local\\Temp\\ipykernel_5692\\1579341922.py:11: FutureWarning: The NumPy global RNG was seeded by calling `np.random.seed`. In a future version this function will no longer use the global RNG. Pass `rng` explicitly to opt-in to the new behaviour and silence this warning.\n",
      "  shap.summary_plot(shap_values_best, X_val, feature_names=X_val.columns.tolist())\n"
     ]
    },
    {
     "data": {
      "image/png": "[encoded data removed]",
      "text/plain": [
       "<Figure size 800x670 with 2 Axes>"
      ]
     },
     "metadata": {},
     "output_type": "display_data"
    },
    {
     "name": "stderr",
     "output_type": "stream",
     "text": [
      "C:\\Users\\학부연구생\\AppData\\Local\\Temp\\ipykernel_5692\\1579341922.py:12: FutureWarning: The NumPy global RNG was seeded by calling `np.random.seed`. In a future version this function will no longer use the global RNG. Pass `rng` explicitly to opt-in to the new behaviour and silence this warning.\n",
      "  shap.summary_plot(shap_values_best, X_val, plot_type=\"bar\", feature_names=X_val.columns.tolist())\n"
     ]
    },
    {
     "data": {
      "image/png": "[encoded data removed]",
      "text/plain": [
       "<Figure size 800x670 with 1 Axes>"
      ]
     },
     "metadata": {},
     "output_type": "display_data"
    }
   ],
   "source": [
    "import shap\n",
    "\n",
    "# 1. SHAP 값 계산 (3차원 배열)\n",
    "explainer = shap.TreeExplainer(best_model)\n",
    "shap_values = explainer.shap_values(X_val)  # shape: (663, 13, 2)\n",
    "\n",
    "# 2. 클래스 1(베스트셀러) SHAP 값 추출\n",
    "shap_values_best = shap_values[:, :, 1]  # shape: (663, 13)\n",
    "\n",
    "# 3. 시각화\n",
    "shap.summary_plot(shap_values_best, X_val, feature_names=X_val.columns.tolist())\n",
    "shap.summary_plot(shap_values_best, X_val, plot_type=\"bar\", feature_names=X_val.columns.tolist())"
   ]
  }
 ],
 "metadata": {
  "kernelspec": {
   "display_name": "[py3.12.4]",
   "language": "python",
   "name": "python3"
  },
  "language_info": {
   "codemirror_mode": {
    "name": "ipython",
    "version": 3
   },
   "file_extension": ".py",
   "mimetype": "text/x-python",
   "name": "python",
   "nbconvert_exporter": "python",
   "pygments_lexer": "ipython3",
   "version": "3.12.4"
  }
 },
 "nbformat": 4,
 "nbformat_minor": 5
}
