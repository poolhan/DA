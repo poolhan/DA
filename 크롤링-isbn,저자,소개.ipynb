{
 "cells": [
  {
   "cell_type": "code",
   "execution_count": 33,
   "id": "bffe7926",
   "metadata": {},
   "outputs": [],
   "source": [
    "from selenium import webdriver\n",
    "from selenium.webdriver.common.keys import Keys\n",
    "import time\n",
    "from selenium.webdriver.common.by import By"
   ]
  },
  {
   "cell_type": "markdown",
   "id": "f7d6b27a",
   "metadata": {},
   "source": []
  },
  {
   "cell_type": "code",
   "execution_count": 34,
   "id": "f1a52e56",
   "metadata": {},
   "outputs": [],
   "source": [
    "driver= webdriver.Chrome()\n",
    "driver.get('https://www.aladin.co.kr/shop/wproduct.aspx?ItemId=40869703')"
   ]
  },
  {
   "cell_type": "code",
   "execution_count": 35,
   "id": "479c2d03",
   "metadata": {},
   "outputs": [],
   "source": [
    "time.sleep(3)#페이지가 완전히 로딩되도록 3초간 대기"
   ]
  },
  {
   "cell_type": "code",
   "execution_count": 36,
   "id": "4787c8ab",
   "metadata": {},
   "outputs": [],
   "source": [
    "json_=driver.find_element(By.XPATH,\"//script[@type = 'application/ld+json']\")#path를 기준으로 찾음"
   ]
  },
  {
   "cell_type": "code",
   "execution_count": 37,
   "id": "dc6d26cf",
   "metadata": {},
   "outputs": [],
   "source": [
    "import json"
   ]
  },
  {
   "cell_type": "code",
   "execution_count": 38,
   "id": "8331b899",
   "metadata": {},
   "outputs": [],
   "source": [
    "content=json_.get_attribute('innerHTML')#html코드 파싱"
   ]
  },
  {
   "cell_type": "code",
   "execution_count": 39,
   "id": "77c66dc7",
   "metadata": {},
   "outputs": [
    {
     "data": {
      "text/plain": [
       "'\\n{\\n    \"@context\":\"https://schema.org\",\\n    \"@type\":\"Book\",\\n    \"name\" : \"소년이 온다\",\\n    \"image\" : \"https://image.aladin.co.kr/product/4086/97/cover500/8936434128_2.jpg\",\\n    \"description\" : \"섬세한 감수성과 치밀한 문장으로 인간 존재의 본질을 탐구해온 작가 한강의 여섯번째 장편소설. 상처의 구조에 대한 투시와 천착의 서사를 통해 한강만이 풀어낼 수 있는 방식으로 1980년 5월을 새롭게 조명한다.\",\\n    \"genre\" : \"한국소설, 알라딘 독자 선정 올해의 책, 외부, 전문기관 추천도서, 해외 문학상\",\\n    \"keywords\" : \"한강, 장편소설, 소설, 8936434128, 노벨상, 광주민주화운동, 역사의증언, 상처의기억, 희생자의이야기\",\\n    \"url\" : \"https://www.aladin.co.kr/shop/wproduct.aspx?ItemId=40869703\",\\n    \"aggregateRating\": \\n    {\\n        \"@type\": \"AggregateRating\",\\n        \"ratingValue\": \"9.6\",\\n        \"reviewCount\": \"975\",\\n        \"bestRating\": \"10\",\\n        \"worstRating\": \"0\"\\n    },\\n    \"author\": \\n    {\\n        \"@type\":\"Person\",\\n        \"name\":\"한강\",\\n        \"sameAs\":\"https://www.aladin.co.kr/author/wauthor_overview.aspx?AuthorSearch=@49154\"\\n    },\\n    \"publisher\": \\n    {\\n        \"@type\":\"Organization\",\\n        \"name\":\"창비\"\\n    },\\n    \"offers\": \\n    {\\n        \"@type\":\"Offer\",\\n        \"price\":13500,\\n        \"priceCurrency\":\"KRW\",\\n        \"availability\":\"https://schema.org/InStock\",\\n        \"url\":\"https://www.aladin.co.kr/shop/wproduct.aspx?ItemId=40869703\",\\n        \"itemCondition\":\"https://schema.org/NewCondition\"\\n    },\\n    \"workExample\" : [{\\n        \"@type\": \"Book\",\\n        \"isbn\": \"9788936434120\",\\n        \"bookFormat\": \"https://schema.org/Paperback\",\\n        \"datePublished\": \"2014-05-19\",\\n        \"potentialAction\":\\n        {\\n            \"@type\":\"ReadAction\",\\n            \"target\":\\n            {\\n                \"@type\":\"EntryPoint\",\\n                \"urlTemplate\":\"https://www.aladin.co.kr/shop/wproduct.aspx?ItemId=40869703\",\\n                \"actionPlatform\":[\\n                    \"https://schema.org/DesktopWebPlatform\"\\n                ]\\n            },\\n            \"expectsAcceptanceOf\":\\n            {\\n                \"@type\":\"Offer\",\\n                \"price\":13500,\\n                \"priceCurrency\":\"KRW\",\\n                \"availability\":\"https://schema.org/InStock\"\\n            }\\n        }\\n    }]\\n}\\n'"
      ]
     },
     "execution_count": 39,
     "metadata": {},
     "output_type": "execute_result"
    }
   ],
   "source": [
    "content"
   ]
  },
  {
   "cell_type": "code",
   "execution_count": 40,
   "id": "fcb7bfff",
   "metadata": {},
   "outputs": [],
   "source": [
    "data=json.loads(content)\n"
   ]
  },
  {
   "cell_type": "code",
   "execution_count": 41,
   "id": "7268d7ef",
   "metadata": {},
   "outputs": [
    {
     "data": {
      "text/plain": [
       "{'@context': 'https://schema.org',\n",
       " '@type': 'Book',\n",
       " 'name': '소년이 온다',\n",
       " 'image': 'https://image.aladin.co.kr/product/4086/97/cover500/8936434128_2.jpg',\n",
       " 'description': '섬세한 감수성과 치밀한 문장으로 인간 존재의 본질을 탐구해온 작가 한강의 여섯번째 장편소설. 상처의 구조에 대한 투시와 천착의 서사를 통해 한강만이 풀어낼 수 있는 방식으로 1980년 5월을 새롭게 조명한다.',\n",
       " 'genre': '한국소설, 알라딘 독자 선정 올해의 책, 외부, 전문기관 추천도서, 해외 문학상',\n",
       " 'keywords': '한강, 장편소설, 소설, 8936434128, 노벨상, 광주민주화운동, 역사의증언, 상처의기억, 희생자의이야기',\n",
       " 'url': 'https://www.aladin.co.kr/shop/wproduct.aspx?ItemId=40869703',\n",
       " 'aggregateRating': {'@type': 'AggregateRating',\n",
       "  'ratingValue': '9.6',\n",
       "  'reviewCount': '975',\n",
       "  'bestRating': '10',\n",
       "  'worstRating': '0'},\n",
       " 'author': {'@type': 'Person',\n",
       "  'name': '한강',\n",
       "  'sameAs': 'https://www.aladin.co.kr/author/wauthor_overview.aspx?AuthorSearch=@49154'},\n",
       " 'publisher': {'@type': 'Organization', 'name': '창비'},\n",
       " 'offers': {'@type': 'Offer',\n",
       "  'price': 13500,\n",
       "  'priceCurrency': 'KRW',\n",
       "  'availability': 'https://schema.org/InStock',\n",
       "  'url': 'https://www.aladin.co.kr/shop/wproduct.aspx?ItemId=40869703',\n",
       "  'itemCondition': 'https://schema.org/NewCondition'},\n",
       " 'workExample': [{'@type': 'Book',\n",
       "   'isbn': '9788936434120',\n",
       "   'bookFormat': 'https://schema.org/Paperback',\n",
       "   'datePublished': '2014-05-19',\n",
       "   'potentialAction': {'@type': 'ReadAction',\n",
       "    'target': {'@type': 'EntryPoint',\n",
       "     'urlTemplate': 'https://www.aladin.co.kr/shop/wproduct.aspx?ItemId=40869703',\n",
       "     'actionPlatform': ['https://schema.org/DesktopWebPlatform']},\n",
       "    'expectsAcceptanceOf': {'@type': 'Offer',\n",
       "     'price': 13500,\n",
       "     'priceCurrency': 'KRW',\n",
       "     'availability': 'https://schema.org/InStock'}}}]}"
      ]
     },
     "execution_count": 41,
     "metadata": {},
     "output_type": "execute_result"
    }
   ],
   "source": [
    "data"
   ]
  },
  {
   "cell_type": "code",
   "execution_count": 42,
   "id": "af7ee01c",
   "metadata": {},
   "outputs": [],
   "source": [
    "import random"
   ]
  },
  {
   "cell_type": "code",
   "execution_count": 43,
   "id": "4b32ceae",
   "metadata": {},
   "outputs": [],
   "source": [
    "time.sleep(random.randint(3,10))#대기시간 랜덤"
   ]
  },
  {
   "cell_type": "code",
   "execution_count": 44,
   "id": "26a779b6",
   "metadata": {},
   "outputs": [
    {
     "ename": "NameError",
     "evalue": "name 'option' is not defined",
     "output_type": "error",
     "traceback": [
      "\u001b[1;31m---------------------------------------------------------------------------\u001b[0m",
      "\u001b[1;31mNameError\u001b[0m                                 Traceback (most recent call last)",
      "Cell \u001b[1;32mIn[44], line 1\u001b[0m\n\u001b[1;32m----> 1\u001b[0m \u001b[43moption\u001b[49m\u001b[38;5;241m.\u001b[39madd_argument(\u001b[38;5;124m\"\u001b[39m\u001b[38;5;124m--headless\u001b[39m\u001b[38;5;124m\"\u001b[39m) \u001b[38;5;66;03m# 화면이 안보이게 하는 옵션\u001b[39;00m\n\u001b[0;32m      2\u001b[0m \u001b[38;5;66;03m# option.add_argument(\"--headless=new\") # 화면이 안보이게 하는 옵션 -> 위 옵션이 안될 경우 사용\u001b[39;00m\n\u001b[0;32m      3\u001b[0m option\u001b[38;5;241m.\u001b[39madd_argument(\u001b[38;5;124m\"\u001b[39m\u001b[38;5;124m--disable-gpu\u001b[39m\u001b[38;5;124m\"\u001b[39m) \u001b[38;5;66;03m# 예전엔 headless 옵션 사용할 때 같이 사용함 요즘엔 안써도 된다는 말이 있음\u001b[39;00m\n",
      "\u001b[1;31mNameError\u001b[0m: name 'option' is not defined"
     ]
    }
   ],
   "source": [
    "option.add_argument(\"--headless\") # 화면이 안보이게 하는 옵션\n",
    "# option.add_argument(\"--headless=new\") # 화면이 안보이게 하는 옵션 -> 위 옵션이 안될 경우 사용\n",
    "option.add_argument(\"--disable-gpu\") # 예전엔 headless 옵션 사용할 때 같이 사용함 요즘엔 안써도 된다는 말이 있음"
   ]
  },
  {
   "cell_type": "code",
   "execution_count": null,
   "id": "c9b13050",
   "metadata": {},
   "outputs": [],
   "source": [
    "user_agent=\"Mozilla/5.0 (Windows NT 10.0; Win64; x64) AppleWebKit/537.36 (KHTML, like Gecko) Chrome/116.0.0.0 Safari/537.36\"\n",
    "option.add_argument(f\"user-agent={user_agent}\")"
   ]
  },
  {
   "cell_type": "code",
   "execution_count": null,
   "id": "f54b8bdd",
   "metadata": {},
   "outputs": [],
   "source": [
    "Mozilla/5.0 (Windows NT 10.0; Win64; x64) AppleWebKit/537.36 (KHTML, like Gecko) Chrome/135.0.0.0 Safari/537.36 Edg/135.0.0.0"
   ]
  },
  {
   "cell_type": "code",
   "execution_count": null,
   "id": "3ad8602e",
   "metadata": {},
   "outputs": [],
   "source": [
    "isbn= data['workExample'][0]['isbn']"
   ]
  },
  {
   "cell_type": "code",
   "execution_count": null,
   "id": "11754297",
   "metadata": {},
   "outputs": [],
   "source": [
    "author=data['author']['name']"
   ]
  },
  {
   "cell_type": "code",
   "execution_count": null,
   "id": "8ae2ef52",
   "metadata": {},
   "outputs": [],
   "source": [
    "btn_more=driver.find_element(By.XPATH, '//div[@class=\"introduction\"]//div[@id=\"div_AuthorInfo_49154_Short\"]//a[contains(@href, \"fn_show_introduce\")]')#더보기 버튼 클릭,contains 사용\n",
    "btn_more.click()"
   ]
  },
  {
   "cell_type": "code",
   "execution_count": null,
   "id": "1e37cec4",
   "metadata": {},
   "outputs": [],
   "source": [
    "desc = driver.find_element(By.XPATH, '//div[@class=\"introduction\"]//div[@id=\"div_AuthorInfo_49154_All\"]//a[@style=\"text-decoration:none !important\"]')\n"
   ]
  },
  {
   "cell_type": "code",
   "execution_count": null,
   "id": "9f190a2d",
   "metadata": {},
   "outputs": [
    {
     "data": {
      "text/plain": [
       "'1970년 겨울 광주에서 태어났다. 1993년 『문학과사회』 겨울호에 시 「서울의 겨울」 외 네 편을 발표하고 이듬해 『서울신문』 신춘문예에 단편소설 「붉은 닻」이 당선되어 작품 활동을 시작했다.\\n소설집 『여수의 사랑』 『내 여자의 열매』 『노랑무늬영원』, 장편소설 『검은 사슴』 『그대의 차가운 손』 『채식주의자』 『바람이 분다, 가라』 『희랍어 시간』 『소년이 온다』 『흰』 『작별하지 않는다』, 시집 『서랍에 저녁을 넣어 두었다』 등을 출간했다. 오늘의 젊은 예술가상, 이상문학상, 동리문학상, 만해문학상, 황순원문학상, 김유정문학상, 김만중문학상, 대산문학상, 인터내셔널 부커상, 말라파르테 문학상, 산클레멘테 문학상, 메디치 외국문학상, 에밀 기메 아시아문학상 등을 수상했으며, 노르웨이 ‘미래 도서관’ 프로젝트 참여 작가로 선정되었다. 2024년 한국 최초 노벨문학상을 수상했다.'"
      ]
     },
     "execution_count": 28,
     "metadata": {},
     "output_type": "execute_result"
    }
   ],
   "source": [
    "desc.text.strip()#텍스트 원본"
   ]
  }
 ],
 "metadata": {
  "kernelspec": {
   "display_name": "[py3.12.4]",
   "language": "python",
   "name": "python3"
  },
  "language_info": {
   "codemirror_mode": {
    "name": "ipython",
    "version": 3
   },
   "file_extension": ".py",
   "mimetype": "text/x-python",
   "name": "python",
   "nbconvert_exporter": "python",
   "pygments_lexer": "ipython3",
   "version": "3.12.4"
  }
 },
 "nbformat": 4,
 "nbformat_minor": 5
}
